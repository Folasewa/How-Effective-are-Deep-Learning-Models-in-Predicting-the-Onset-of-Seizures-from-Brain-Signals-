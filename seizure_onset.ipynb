{
 "cells": [
  {
   "cell_type": "code",
   "execution_count": 87,
   "id": "ca1475e1",
   "metadata": {},
   "outputs": [],
   "source": [
    "import numpy as np\n",
    "import os\n",
    "import h5py\n",
    "import pyedflib\n",
    "from tqdm import tqdm\n",
    "import pandas as pd\n",
    "from scipy.signal import butter, filtfilt, iirnotch, sosfilt, sosfiltfilt\n",
    "from sklearn.model_selection import train_test_split\n",
    "from sklearn.preprocessing import StandardScaler\n",
    "from sklearn.naive_bayes import GaussianNB\n",
    "from sklearn.ensemble import RandomForestClassifier\n",
    "from xgboost import XGBClassifier\n",
    "from sklearn.metrics import classification_report, confusion_matrix, accuracy_score, f1_score,  precision_recall_fscore_support\n",
    "from imblearn.over_sampling import SMOTE\n",
    "import time"
   ]
  },
  {
   "cell_type": "markdown",
   "id": "06e5ed99",
   "metadata": {},
   "source": [
    "First extract the seizure files from the summary.txt"
   ]
  },
  {
   "cell_type": "code",
   "execution_count": 33,
   "id": "da82dd18",
   "metadata": {},
   "outputs": [
    {
     "name": "stdout",
     "output_type": "stream",
     "text": [
      "Seizure extraction complete!\n",
      "Saved /Users/folasewaabdulsalam/Seizure_Onset/seizure_files/chb03_01_362_414_seizure.npy\n",
      "Saved /Users/folasewaabdulsalam/Seizure_Onset/seizure_files/chb03_02_731_796_seizure.npy\n",
      "Saved /Users/folasewaabdulsalam/Seizure_Onset/seizure_files/chb03_03_432_501_seizure.npy\n",
      "Saved /Users/folasewaabdulsalam/Seizure_Onset/seizure_files/chb03_04_2162_2214_seizure.npy\n",
      "Saved /Users/folasewaabdulsalam/Seizure_Onset/seizure_files/chb03_34_1982_2029_seizure.npy\n",
      "Saved /Users/folasewaabdulsalam/Seizure_Onset/seizure_files/chb03_35_2592_2656_seizure.npy\n",
      "Saved /Users/folasewaabdulsalam/Seizure_Onset/seizure_files/chb03_36_1725_1778_seizure.npy\n",
      "Saved /Users/folasewaabdulsalam/Seizure_Onset/seizure_files/chb24_01_480_505_seizure.npy\n",
      "Saved /Users/folasewaabdulsalam/Seizure_Onset/seizure_files/chb24_01_2451_2476_seizure.npy\n",
      "Saved /Users/folasewaabdulsalam/Seizure_Onset/seizure_files/chb24_03_231_260_seizure.npy\n",
      "Saved /Users/folasewaabdulsalam/Seizure_Onset/seizure_files/chb24_03_2883_2908_seizure.npy\n",
      "Saved /Users/folasewaabdulsalam/Seizure_Onset/seizure_files/chb24_04_1088_1120_seizure.npy\n",
      "Saved /Users/folasewaabdulsalam/Seizure_Onset/seizure_files/chb24_04_1411_1438_seizure.npy\n",
      "Saved /Users/folasewaabdulsalam/Seizure_Onset/seizure_files/chb24_04_1745_1764_seizure.npy\n",
      "Saved /Users/folasewaabdulsalam/Seizure_Onset/seizure_files/chb24_06_1229_1253_seizure.npy\n",
      "Saved /Users/folasewaabdulsalam/Seizure_Onset/seizure_files/chb24_07_38_60_seizure.npy\n",
      "Saved /Users/folasewaabdulsalam/Seizure_Onset/seizure_files/chb24_09_1745_1764_seizure.npy\n",
      "Saved /Users/folasewaabdulsalam/Seizure_Onset/seizure_files/chb24_11_3527_3597_seizure.npy\n",
      "Saved /Users/folasewaabdulsalam/Seizure_Onset/seizure_files/chb24_13_3288_3304_seizure.npy\n",
      "Saved /Users/folasewaabdulsalam/Seizure_Onset/seizure_files/chb24_14_1939_1966_seizure.npy\n",
      "Saved /Users/folasewaabdulsalam/Seizure_Onset/seizure_files/chb24_15_3552_3569_seizure.npy\n",
      "Saved /Users/folasewaabdulsalam/Seizure_Onset/seizure_files/chb24_17_3515_3581_seizure.npy\n",
      "Saved /Users/folasewaabdulsalam/Seizure_Onset/seizure_files/chb24_21_2804_2872_seizure.npy\n",
      "Saved /Users/folasewaabdulsalam/Seizure_Onset/seizure_files/chb05_06_417_532_seizure.npy\n",
      "Saved /Users/folasewaabdulsalam/Seizure_Onset/seizure_files/chb05_13_1086_1196_seizure.npy\n",
      "Saved /Users/folasewaabdulsalam/Seizure_Onset/seizure_files/chb05_17_2451_2571_seizure.npy\n",
      "Saved /Users/folasewaabdulsalam/Seizure_Onset/seizure_files/chb05_22_2348_2465_seizure.npy\n",
      "Saved /Users/folasewaabdulsalam/Seizure_Onset/seizure_files/chb02_16_130_212_seizure.npy\n",
      "Saved /Users/folasewaabdulsalam/Seizure_Onset/seizure_files/chb02_16+_2972_3053_seizure.npy\n",
      "Saved /Users/folasewaabdulsalam/Seizure_Onset/seizure_files/chb02_19_3369_3378_seizure.npy\n",
      "Saved /Users/folasewaabdulsalam/Seizure_Onset/seizure_files/chb01_03_2996_3036_seizure.npy\n",
      "Saved /Users/folasewaabdulsalam/Seizure_Onset/seizure_files/chb01_04_1467_1494_seizure.npy\n",
      "Saved /Users/folasewaabdulsalam/Seizure_Onset/seizure_files/chb01_15_1732_1772_seizure.npy\n",
      "Saved /Users/folasewaabdulsalam/Seizure_Onset/seizure_files/chb01_16_1015_1066_seizure.npy\n",
      "Saved /Users/folasewaabdulsalam/Seizure_Onset/seizure_files/chb01_18_1720_1810_seizure.npy\n",
      "Saved /Users/folasewaabdulsalam/Seizure_Onset/seizure_files/chb01_21_327_420_seizure.npy\n",
      "Saved /Users/folasewaabdulsalam/Seizure_Onset/seizure_files/chb01_26_1862_1963_seizure.npy\n"
     ]
    }
   ],
   "source": [
    "edf_path = \"/Users/folasewaabdulsalam/Seizure_Onset/edf_files\"\n",
    "summary_path= \"/Users/folasewaabdulsalam/Seizure_Onset/summary_files\"\n",
    "output_path = \"/Users/folasewaabdulsalam/Seizure_Onset/seizure_files\"\n",
    "os.makedirs(output_path , exist_ok=True)\n",
    "\n",
    "def extract_seizure_segments(edf_path, summary_path, output_path):\n",
    "    # Process each summary file\n",
    "    for summary_file in os.listdir(summary_path):\n",
    "        if summary_file.endswith(\".txt\"):\n",
    "            participant_id = summary_file.replace(\"-summary.txt\", \"\")\n",
    "            \n",
    "            # Read the summary file\n",
    "            with open(os.path.join(summary_path, summary_file), \"r\") as f:\n",
    "                current_file = None\n",
    "                seizure_times = {}\n",
    "                \n",
    "                for line in f:\n",
    "                    # Detect file names\n",
    "                    if line.startswith(\"File Name:\"):\n",
    "                        current_file = line.split(\":\")[1].strip().replace(\".edf\", \"\")\n",
    "                        seizure_times[current_file] = []\n",
    "\n",
    "                    # Detect seizure start and end times\n",
    "                    if \"Seizure Start Time:\" in line:\n",
    "                        start_time = int(line.split(\":\")[1].strip().replace(\" seconds\", \"\"))\n",
    "                        seizure_times[current_file].append((\"start\", start_time))\n",
    "\n",
    "                    if \"Seizure End Time:\" in line:\n",
    "                        end_time = int(line.split(\":\")[1].strip().replace(\" seconds\", \"\"))\n",
    "                        seizure_times[current_file].append((\"end\", end_time))\n",
    "\n",
    "                # Extract and save seizure segments\n",
    "                for file_name, events in seizure_times.items():\n",
    "                    edf_file = f\"{file_name}.edf\"\n",
    "                    edf_file_path = os.path.join(edf_path, edf_file)\n",
    "\n",
    "                    if os.path.exists(edf_file_path):\n",
    "                        with pyedflib.EdfReader(edf_file_path) as f:\n",
    "                            signals = np.array([f.readSignal(i) for i in range(f.signals_in_file)])\n",
    "                            fs = f.getSampleFrequency(0)\n",
    "\n",
    "                            # Extract seizure segments\n",
    "                            starts = [t[1] for t in events if t[0] == \"start\"]\n",
    "                            ends = [t[1] for t in events if t[0] == \"end\"]\n",
    "\n",
    "                            for start, end in zip(starts, ends):\n",
    "                                start_sample = int(start * fs)\n",
    "                                end_sample = int(end * fs)\n",
    "                                seizure_segment = signals[:, start_sample:end_sample]\n",
    "\n",
    "                                # Save the seizure segment\n",
    "                                output_file = os.path.join(output_path, f\"{file_name}_{start}_{end}_seizure.npy\")\n",
    "                                np.save(output_file, seizure_segment)\n",
    "                                print(f\"Saved {output_file}\")\n",
    "\n",
    "print(\"Seizure extraction complete!\")\n",
    "\n",
    "\n",
    "# Run the extraction\n",
    "extract_seizure_segments(edf_path, summary_path, output_path)\n"
   ]
  },
  {
   "cell_type": "markdown",
   "id": "4c93a809",
   "metadata": {},
   "source": [
    "Convert to .h5"
   ]
  },
  {
   "cell_type": "code",
   "execution_count": 34,
   "id": "363ed92e",
   "metadata": {},
   "outputs": [
    {
     "name": "stdout",
     "output_type": "stream",
     "text": [
      "Converting full .edf files...\n",
      "Converted chb24_03.edf to /Users/folasewaabdulsalam/Seizure_Onset/h5_files/chb24_03.h5\n",
      "Converted chb24_17.edf to /Users/folasewaabdulsalam/Seizure_Onset/h5_files/chb24_17.h5\n",
      "Converted chb24_16.edf to /Users/folasewaabdulsalam/Seizure_Onset/h5_files/chb24_16.h5\n",
      "Converted chb24_02.edf to /Users/folasewaabdulsalam/Seizure_Onset/h5_files/chb24_02.h5\n",
      "Converted chb01_43.edf to /Users/folasewaabdulsalam/Seizure_Onset/h5_files/chb01_43.h5\n",
      "Converted chb24_14.edf to /Users/folasewaabdulsalam/Seizure_Onset/h5_files/chb24_14.h5\n",
      "Converted chb23_09.edf to /Users/folasewaabdulsalam/Seizure_Onset/h5_files/chb23_09.h5\n",
      "Converted chb23_20.edf to /Users/folasewaabdulsalam/Seizure_Onset/h5_files/chb23_20.h5\n",
      "Converted chb24_01.edf to /Users/folasewaabdulsalam/Seizure_Onset/h5_files/chb24_01.h5\n",
      "Converted chb23_08.edf to /Users/folasewaabdulsalam/Seizure_Onset/h5_files/chb23_08.h5\n",
      "Converted chb24_15.edf to /Users/folasewaabdulsalam/Seizure_Onset/h5_files/chb24_15.h5\n",
      "Converted chb24_11.edf to /Users/folasewaabdulsalam/Seizure_Onset/h5_files/chb24_11.h5\n",
      "Converted chb24_05.edf to /Users/folasewaabdulsalam/Seizure_Onset/h5_files/chb24_05.h5\n",
      "Converted chb05_34.edf to /Users/folasewaabdulsalam/Seizure_Onset/h5_files/chb05_34.h5\n",
      "Converted chb24_04.edf to /Users/folasewaabdulsalam/Seizure_Onset/h5_files/chb24_04.h5\n",
      "Converted chb23_19.edf to /Users/folasewaabdulsalam/Seizure_Onset/h5_files/chb23_19.h5\n",
      "Converted chb24_06.edf to /Users/folasewaabdulsalam/Seizure_Onset/h5_files/chb24_06.h5\n",
      "Converted chb24_12.edf to /Users/folasewaabdulsalam/Seizure_Onset/h5_files/chb24_12.h5\n",
      "Converted chb02_16.edf to /Users/folasewaabdulsalam/Seizure_Onset/h5_files/chb02_16.h5\n",
      "Converted chb05_22.edf to /Users/folasewaabdulsalam/Seizure_Onset/h5_files/chb05_22.h5\n",
      "Converted chb05_36.edf to /Users/folasewaabdulsalam/Seizure_Onset/h5_files/chb05_36.h5\n",
      "Converted chb24_13.edf to /Users/folasewaabdulsalam/Seizure_Onset/h5_files/chb24_13.h5\n",
      "Converted chb24_07.edf to /Users/folasewaabdulsalam/Seizure_Onset/h5_files/chb24_07.h5\n",
      "Converted chb01_46.edf to /Users/folasewaabdulsalam/Seizure_Onset/h5_files/chb01_46.h5\n",
      "Converted chb01_21.edf to /Users/folasewaabdulsalam/Seizure_Onset/h5_files/chb01_21.h5\n",
      "Converted chb01_08.edf to /Users/folasewaabdulsalam/Seizure_Onset/h5_files/chb01_08.h5\n",
      "Converted chb03_36.edf to /Users/folasewaabdulsalam/Seizure_Onset/h5_files/chb03_36.h5\n",
      "Converted chb01_26.edf to /Users/folasewaabdulsalam/Seizure_Onset/h5_files/chb01_26.h5\n",
      "Converted chb03_35.edf to /Users/folasewaabdulsalam/Seizure_Onset/h5_files/chb03_35.h5\n",
      "Converted chb01_18.edf to /Users/folasewaabdulsalam/Seizure_Onset/h5_files/chb01_18.h5\n",
      "Converted chb03_34.edf to /Users/folasewaabdulsalam/Seizure_Onset/h5_files/chb03_34.h5\n",
      "Converted chb03_05.edf to /Users/folasewaabdulsalam/Seizure_Onset/h5_files/chb03_05.h5\n",
      "Converted chb01_01.edf to /Users/folasewaabdulsalam/Seizure_Onset/h5_files/chb01_01.h5\n",
      "Converted chb01_15.edf to /Users/folasewaabdulsalam/Seizure_Onset/h5_files/chb01_15.h5\n",
      "Converted chb03_04.edf to /Users/folasewaabdulsalam/Seizure_Onset/h5_files/chb03_04.h5\n",
      "Converted chb01_03.edf to /Users/folasewaabdulsalam/Seizure_Onset/h5_files/chb01_03.h5\n",
      "Converted chb01_16.edf to /Users/folasewaabdulsalam/Seizure_Onset/h5_files/chb01_16.h5\n",
      "Converted chb01_02.edf to /Users/folasewaabdulsalam/Seizure_Onset/h5_files/chb01_02.h5\n",
      "Converted chb03_03.edf to /Users/folasewaabdulsalam/Seizure_Onset/h5_files/chb03_03.h5\n",
      "Converted chb01_06.edf to /Users/folasewaabdulsalam/Seizure_Onset/h5_files/chb01_06.h5\n",
      "Converted chb01_07.edf to /Users/folasewaabdulsalam/Seizure_Onset/h5_files/chb01_07.h5\n",
      "Converted chb03_02.edf to /Users/folasewaabdulsalam/Seizure_Onset/h5_files/chb03_02.h5\n",
      "Converted chb01_05.edf to /Users/folasewaabdulsalam/Seizure_Onset/h5_files/chb01_05.h5\n",
      "Converted chb01_38.edf to /Users/folasewaabdulsalam/Seizure_Onset/h5_files/chb01_38.h5\n",
      "Converted chb01_04.edf to /Users/folasewaabdulsalam/Seizure_Onset/h5_files/chb01_04.h5\n",
      "Converted chb01_10.edf to /Users/folasewaabdulsalam/Seizure_Onset/h5_files/chb01_10.h5\n",
      "Converted chb03_01.edf to /Users/folasewaabdulsalam/Seizure_Onset/h5_files/chb03_01.h5\n",
      "Converted chb24_22.edf to /Users/folasewaabdulsalam/Seizure_Onset/h5_files/chb24_22.h5\n",
      "Converted chb23_17.edf to /Users/folasewaabdulsalam/Seizure_Onset/h5_files/chb23_17.h5\n",
      "Converted chb02_32.edf to /Users/folasewaabdulsalam/Seizure_Onset/h5_files/chb02_32.h5\n",
      "Converted chb05_13.edf to /Users/folasewaabdulsalam/Seizure_Onset/h5_files/chb05_13.h5\n",
      "Converted chb05_06.edf to /Users/folasewaabdulsalam/Seizure_Onset/h5_files/chb05_06.h5\n",
      "Converted chb02_33.edf to /Users/folasewaabdulsalam/Seizure_Onset/h5_files/chb02_33.h5\n",
      "Converted chb02_27.edf to /Users/folasewaabdulsalam/Seizure_Onset/h5_files/chb02_27.h5\n",
      "Converted chb23_16.edf to /Users/folasewaabdulsalam/Seizure_Onset/h5_files/chb23_16.h5\n",
      "Converted chb24_21.edf to /Users/folasewaabdulsalam/Seizure_Onset/h5_files/chb24_21.h5\n",
      "Converted chb24_09.edf to /Users/folasewaabdulsalam/Seizure_Onset/h5_files/chb24_09.h5\n",
      "Converted chb02_31.edf to /Users/folasewaabdulsalam/Seizure_Onset/h5_files/chb02_31.h5\n",
      "Converted chb05_38.edf to /Users/folasewaabdulsalam/Seizure_Onset/h5_files/chb05_38.h5\n",
      "Converted chb02_19.edf to /Users/folasewaabdulsalam/Seizure_Onset/h5_files/chb02_19.h5\n",
      "Converted chb05_39.edf to /Users/folasewaabdulsalam/Seizure_Onset/h5_files/chb05_39.h5\n",
      "Converted chb24_08.edf to /Users/folasewaabdulsalam/Seizure_Onset/h5_files/chb24_08.h5\n",
      "Converted chb24_20.edf to /Users/folasewaabdulsalam/Seizure_Onset/h5_files/chb24_20.h5\n",
      "Converted chb02_16+.edf to /Users/folasewaabdulsalam/Seizure_Onset/h5_files/chb02_16+.h5\n",
      "Converted chb24_18.edf to /Users/folasewaabdulsalam/Seizure_Onset/h5_files/chb24_18.h5\n",
      "Converted chb05_01.edf to /Users/folasewaabdulsalam/Seizure_Onset/h5_files/chb05_01.h5\n",
      "Converted chb02_34.edf to /Users/folasewaabdulsalam/Seizure_Onset/h5_files/chb02_34.h5\n",
      "Converted chb02_35.edf to /Users/folasewaabdulsalam/Seizure_Onset/h5_files/chb02_35.h5\n",
      "Converted chb23_10.edf to /Users/folasewaabdulsalam/Seizure_Onset/h5_files/chb23_10.h5\n",
      "Converted chb24_19.edf to /Users/folasewaabdulsalam/Seizure_Onset/h5_files/chb24_19.h5\n",
      "Converted chb23_06.edf to /Users/folasewaabdulsalam/Seizure_Onset/h5_files/chb23_06.h5\n",
      "Converted chb05_17.edf to /Users/folasewaabdulsalam/Seizure_Onset/h5_files/chb05_17.h5\n",
      "Converted chb23_07.edf to /Users/folasewaabdulsalam/Seizure_Onset/h5_files/chb23_07.h5\n"
     ]
    }
   ],
   "source": [
    "#convert full files to .h5\n",
    "edf_path = \"/Users/folasewaabdulsalam/Seizure_Onset/edf_files\"\n",
    "h5_path= \"/Users/folasewaabdulsalam/Seizure_Onset/h5_files\"\n",
    "os.makedirs(h5_path, exist_ok=True)\n",
    "\n",
    "def convert_edf_to_h5(edf_path, h5_path):\n",
    "    for edf_file in os.listdir(edf_path):\n",
    "        if edf_file.endswith(\".edf\"):\n",
    "            edf_file_path = os.path.join(edf_path, edf_file)\n",
    "            h5_file_path = os.path.join(h5_path, edf_file.replace(\".edf\", \".h5\"))\n",
    "            \n",
    "            with pyedflib.EdfReader(edf_file_path) as f:\n",
    "                signals = np.array([f.readSignal(i) for i in range(f.signals_in_file)])\n",
    "                channels = f.getSignalLabels()\n",
    "                sample_rate = f.getSampleFrequency(0)\n",
    "\n",
    "            # Save as .h5\n",
    "            with h5py.File(h5_file_path, \"w\") as hf:\n",
    "                hf.create_dataset(\"data\", data=signals, compression=\"gzip\")\n",
    "                hf.attrs[\"channels\"] = channels\n",
    "                hf.attrs[\"sample_rate\"] = sample_rate\n",
    "            \n",
    "            print(f\"Converted {edf_file} to {h5_file_path}\")\n",
    "\n",
    "print(\"Converting full .edf files...\")\n",
    "convert_edf_to_h5(edf_path, h5_path)\n"
   ]
  },
  {
   "cell_type": "markdown",
   "id": "83b72ed3",
   "metadata": {},
   "source": [
    "***startttttt****\n",
    "\n",
    "Preprocessing seziures and non seizures"
   ]
  },
  {
   "cell_type": "code",
   "execution_count": 44,
   "id": "a9388cbc",
   "metadata": {},
   "outputs": [
    {
     "name": "stdout",
     "output_type": "stream",
     "text": [
      "Annotations saved to /Users/folasewaabdulsalam/Seizure_Onset/seizure_annotations.txt\n"
     ]
    }
   ],
   "source": [
    "#extracting seizure annotations from summary.txt\n",
    "summary_path = \"/Users/folasewaabdulsalam/Seizure_Onset/summary_files\"\n",
    "annotations_file = \"/Users/folasewaabdulsalam/Seizure_Onset/seizure_annotations.txt\"\n",
    "\n",
    "def extract_seizure_annotations(summary_path, output_file):\n",
    "    seizure_annotations = {}\n",
    "\n",
    "    for summary_file in os.listdir(summary_path):\n",
    "        if summary_file.endswith(\".txt\"):\n",
    "            with open(os.path.join(summary_path, summary_file), \"r\") as f:\n",
    "                current_file = None\n",
    "                for line in f:\n",
    "                    # Detect file names\n",
    "                    if line.startswith(\"File Name:\"):\n",
    "                        current_file = line.split(\":\")[1].strip().replace(\".edf\", \"\")\n",
    "                        seizure_annotations[current_file] = []\n",
    "\n",
    "                    # Detect seizure start and end times\n",
    "                    if \"Seizure Start Time:\" in line:\n",
    "                        start_time = int(line.split(\":\")[1].strip().replace(\" seconds\", \"\"))\n",
    "                        seizure_annotations[current_file].append((\"start\", start_time))\n",
    "\n",
    "                    if \"Seizure End Time:\" in line:\n",
    "                        end_time = int(line.split(\":\")[1].strip().replace(\" seconds\", \"\"))\n",
    "                        seizure_annotations[current_file].append((\"end\", end_time))\n",
    "\n",
    "    # Save the annotations as a single file\n",
    "    with open(output_file, \"w\") as f:\n",
    "        for file, events in seizure_annotations.items():\n",
    "            for event in events:\n",
    "                f.write(f\"{file} {event[0]} {event[1]}\\n\")\n",
    "    \n",
    "    print(f\"Annotations saved to {output_file}\")\n",
    "\n",
    "# Run the extraction\n",
    "extract_seizure_annotations(summary_path, annotations_file)"
   ]
  },
  {
   "cell_type": "code",
   "execution_count": 71,
   "id": "42152f68",
   "metadata": {},
   "outputs": [
    {
     "name": "stderr",
     "output_type": "stream",
     "text": [
      "Preprocessing .h5 Files:   1%|▏         | 1/73 [00:04<05:40,  4.73s/it]"
     ]
    },
    {
     "name": "stdout",
     "output_type": "stream",
     "text": [
      "Saved /Users/folasewaabdulsalam/Seizure_Onset/preprocessed_data/chb05_36_preprocessed.h5\n"
     ]
    },
    {
     "name": "stderr",
     "output_type": "stream",
     "text": [
      "Preprocessing .h5 Files:   3%|▎         | 2/73 [00:14<09:14,  7.81s/it]"
     ]
    },
    {
     "name": "stdout",
     "output_type": "stream",
     "text": [
      "Saved /Users/folasewaabdulsalam/Seizure_Onset/preprocessed_data/chb23_06_preprocessed.h5\n"
     ]
    },
    {
     "name": "stderr",
     "output_type": "stream",
     "text": [
      "Preprocessing .h5 Files:   4%|▍         | 3/73 [00:34<15:15, 13.08s/it]"
     ]
    },
    {
     "name": "stdout",
     "output_type": "stream",
     "text": [
      "Saved /Users/folasewaabdulsalam/Seizure_Onset/preprocessed_data/chb23_16_preprocessed.h5\n"
     ]
    },
    {
     "name": "stderr",
     "output_type": "stream",
     "text": [
      "Preprocessing .h5 Files:   5%|▌         | 4/73 [00:38<11:04,  9.63s/it]"
     ]
    },
    {
     "name": "stdout",
     "output_type": "stream",
     "text": [
      "Saved /Users/folasewaabdulsalam/Seizure_Onset/preprocessed_data/chb01_03_preprocessed.h5\n"
     ]
    },
    {
     "name": "stderr",
     "output_type": "stream",
     "text": [
      "Preprocessing .h5 Files:   7%|▋         | 5/73 [00:42<08:45,  7.73s/it]"
     ]
    },
    {
     "name": "stdout",
     "output_type": "stream",
     "text": [
      "Saved /Users/folasewaabdulsalam/Seizure_Onset/preprocessed_data/chb02_19_preprocessed.h5\n"
     ]
    },
    {
     "name": "stderr",
     "output_type": "stream",
     "text": [
      "Preprocessing .h5 Files:   8%|▊         | 6/73 [00:46<07:18,  6.54s/it]"
     ]
    },
    {
     "name": "stdout",
     "output_type": "stream",
     "text": [
      "Saved /Users/folasewaabdulsalam/Seizure_Onset/preprocessed_data/chb01_46_preprocessed.h5\n"
     ]
    },
    {
     "name": "stderr",
     "output_type": "stream",
     "text": [
      "Preprocessing .h5 Files:  10%|▉         | 7/73 [00:51<06:22,  5.80s/it]"
     ]
    },
    {
     "name": "stdout",
     "output_type": "stream",
     "text": [
      "Saved /Users/folasewaabdulsalam/Seizure_Onset/preprocessed_data/chb03_03_preprocessed.h5\n"
     ]
    },
    {
     "name": "stderr",
     "output_type": "stream",
     "text": [
      "Preprocessing .h5 Files:  11%|█         | 8/73 [00:55<05:45,  5.32s/it]"
     ]
    },
    {
     "name": "stdout",
     "output_type": "stream",
     "text": [
      "Saved /Users/folasewaabdulsalam/Seizure_Onset/preprocessed_data/chb24_09_preprocessed.h5\n"
     ]
    },
    {
     "name": "stderr",
     "output_type": "stream",
     "text": [
      "Preprocessing .h5 Files:  12%|█▏        | 9/73 [01:00<05:24,  5.07s/it]"
     ]
    },
    {
     "name": "stdout",
     "output_type": "stream",
     "text": [
      "Saved /Users/folasewaabdulsalam/Seizure_Onset/preprocessed_data/chb05_06_preprocessed.h5\n"
     ]
    },
    {
     "name": "stderr",
     "output_type": "stream",
     "text": [
      "Preprocessing .h5 Files:  14%|█▎        | 10/73 [01:04<05:05,  4.84s/it]"
     ]
    },
    {
     "name": "stdout",
     "output_type": "stream",
     "text": [
      "Saved /Users/folasewaabdulsalam/Seizure_Onset/preprocessed_data/chb05_22_preprocessed.h5\n"
     ]
    },
    {
     "name": "stderr",
     "output_type": "stream",
     "text": [
      "Preprocessing .h5 Files:  15%|█▌        | 11/73 [01:08<04:52,  4.71s/it]"
     ]
    },
    {
     "name": "stdout",
     "output_type": "stream",
     "text": [
      "Saved /Users/folasewaabdulsalam/Seizure_Onset/preprocessed_data/chb24_19_preprocessed.h5\n"
     ]
    },
    {
     "name": "stderr",
     "output_type": "stream",
     "text": [
      "Preprocessing .h5 Files:  16%|█▋        | 12/73 [01:13<04:38,  4.57s/it]"
     ]
    },
    {
     "name": "stdout",
     "output_type": "stream",
     "text": [
      "Saved /Users/folasewaabdulsalam/Seizure_Onset/preprocessed_data/chb01_07_preprocessed.h5\n"
     ]
    },
    {
     "name": "stderr",
     "output_type": "stream",
     "text": [
      "Preprocessing .h5 Files:  18%|█▊        | 13/73 [01:17<04:27,  4.45s/it]"
     ]
    },
    {
     "name": "stdout",
     "output_type": "stream",
     "text": [
      "Saved /Users/folasewaabdulsalam/Seizure_Onset/preprocessed_data/chb03_02_preprocessed.h5\n"
     ]
    },
    {
     "name": "stderr",
     "output_type": "stream",
     "text": [
      "Preprocessing .h5 Files:  19%|█▉        | 14/73 [01:21<04:19,  4.40s/it]"
     ]
    },
    {
     "name": "stdout",
     "output_type": "stream",
     "text": [
      "Saved /Users/folasewaabdulsalam/Seizure_Onset/preprocessed_data/chb01_16_preprocessed.h5\n"
     ]
    },
    {
     "name": "stderr",
     "output_type": "stream",
     "text": [
      "Preprocessing .h5 Files:  21%|██        | 15/73 [01:25<04:13,  4.36s/it]"
     ]
    },
    {
     "name": "stdout",
     "output_type": "stream",
     "text": [
      "Saved /Users/folasewaabdulsalam/Seizure_Onset/preprocessed_data/chb24_08_preprocessed.h5\n"
     ]
    },
    {
     "name": "stderr",
     "output_type": "stream",
     "text": [
      "Preprocessing .h5 Files:  22%|██▏       | 16/73 [01:30<04:07,  4.34s/it]"
     ]
    },
    {
     "name": "stdout",
     "output_type": "stream",
     "text": [
      "Saved /Users/folasewaabdulsalam/Seizure_Onset/preprocessed_data/chb03_36_preprocessed.h5\n"
     ]
    },
    {
     "name": "stderr",
     "output_type": "stream",
     "text": [
      "Preprocessing .h5 Files:  23%|██▎       | 17/73 [01:34<04:03,  4.35s/it]"
     ]
    },
    {
     "name": "stdout",
     "output_type": "stream",
     "text": [
      "Saved /Users/folasewaabdulsalam/Seizure_Onset/preprocessed_data/chb05_17_preprocessed.h5\n"
     ]
    },
    {
     "name": "stderr",
     "output_type": "stream",
     "text": [
      "Preprocessing .h5 Files:  25%|██▍       | 18/73 [01:38<03:58,  4.34s/it]"
     ]
    },
    {
     "name": "stdout",
     "output_type": "stream",
     "text": [
      "Saved /Users/folasewaabdulsalam/Seizure_Onset/preprocessed_data/chb24_18_preprocessed.h5\n"
     ]
    },
    {
     "name": "stderr",
     "output_type": "stream",
     "text": [
      "Preprocessing .h5 Files:  26%|██▌       | 19/73 [01:43<03:53,  4.32s/it]"
     ]
    },
    {
     "name": "stdout",
     "output_type": "stream",
     "text": [
      "Saved /Users/folasewaabdulsalam/Seizure_Onset/preprocessed_data/chb01_06_preprocessed.h5\n"
     ]
    },
    {
     "name": "stderr",
     "output_type": "stream",
     "text": [
      "Preprocessing .h5 Files:  27%|██▋       | 20/73 [01:45<03:25,  3.88s/it]"
     ]
    },
    {
     "name": "stdout",
     "output_type": "stream",
     "text": [
      "Saved /Users/folasewaabdulsalam/Seizure_Onset/preprocessed_data/chb01_26_preprocessed.h5\n"
     ]
    },
    {
     "name": "stderr",
     "output_type": "stream",
     "text": [
      "Preprocessing .h5 Files:  29%|██▉       | 21/73 [01:50<03:26,  3.98s/it]"
     ]
    },
    {
     "name": "stdout",
     "output_type": "stream",
     "text": [
      "Saved /Users/folasewaabdulsalam/Seizure_Onset/preprocessed_data/chb01_43_preprocessed.h5\n"
     ]
    },
    {
     "name": "stderr",
     "output_type": "stream",
     "text": [
      "Preprocessing .h5 Files:  30%|███       | 22/73 [01:53<03:11,  3.75s/it]"
     ]
    },
    {
     "name": "stdout",
     "output_type": "stream",
     "text": [
      "Saved /Users/folasewaabdulsalam/Seizure_Onset/preprocessed_data/chb23_07_preprocessed.h5\n"
     ]
    },
    {
     "name": "stderr",
     "output_type": "stream",
     "text": [
      "Preprocessing .h5 Files:  32%|███▏      | 23/73 [01:57<03:16,  3.93s/it]"
     ]
    },
    {
     "name": "stdout",
     "output_type": "stream",
     "text": [
      "Saved /Users/folasewaabdulsalam/Seizure_Onset/preprocessed_data/chb05_13_preprocessed.h5\n"
     ]
    },
    {
     "name": "stderr",
     "output_type": "stream",
     "text": [
      "Preprocessing .h5 Files:  33%|███▎      | 24/73 [02:13<06:13,  7.61s/it]"
     ]
    },
    {
     "name": "stdout",
     "output_type": "stream",
     "text": [
      "Saved /Users/folasewaabdulsalam/Seizure_Onset/preprocessed_data/chb23_17_preprocessed.h5\n"
     ]
    },
    {
     "name": "stderr",
     "output_type": "stream",
     "text": [
      "Preprocessing .h5 Files:  34%|███▍      | 25/73 [02:18<05:17,  6.61s/it]"
     ]
    },
    {
     "name": "stdout",
     "output_type": "stream",
     "text": [
      "Saved /Users/folasewaabdulsalam/Seizure_Onset/preprocessed_data/chb01_02_preprocessed.h5\n"
     ]
    },
    {
     "name": "stderr",
     "output_type": "stream",
     "text": [
      "Preprocessing .h5 Files:  36%|███▌      | 26/73 [02:22<04:38,  5.92s/it]"
     ]
    },
    {
     "name": "stdout",
     "output_type": "stream",
     "text": [
      "Saved /Users/folasewaabdulsalam/Seizure_Onset/preprocessed_data/chb24_07_preprocessed.h5\n"
     ]
    },
    {
     "name": "stderr",
     "output_type": "stream",
     "text": [
      "Preprocessing .h5 Files:  37%|███▋      | 27/73 [02:26<04:09,  5.42s/it]"
     ]
    },
    {
     "name": "stdout",
     "output_type": "stream",
     "text": [
      "Saved /Users/folasewaabdulsalam/Seizure_Onset/preprocessed_data/chb24_17_preprocessed.h5\n"
     ]
    },
    {
     "name": "stderr",
     "output_type": "stream",
     "text": [
      "Preprocessing .h5 Files:  38%|███▊      | 28/73 [02:31<03:49,  5.10s/it]"
     ]
    },
    {
     "name": "stdout",
     "output_type": "stream",
     "text": [
      "Saved /Users/folasewaabdulsalam/Seizure_Onset/preprocessed_data/chb02_27_preprocessed.h5\n"
     ]
    },
    {
     "name": "stderr",
     "output_type": "stream",
     "text": [
      "Preprocessing .h5 Files:  40%|███▉      | 29/73 [02:35<03:35,  4.89s/it]"
     ]
    },
    {
     "name": "stdout",
     "output_type": "stream",
     "text": [
      "Saved /Users/folasewaabdulsalam/Seizure_Onset/preprocessed_data/chb02_16+_preprocessed.h5\n"
     ]
    },
    {
     "name": "stderr",
     "output_type": "stream",
     "text": [
      "Preprocessing .h5 Files:  41%|████      | 30/73 [02:39<03:23,  4.72s/it]"
     ]
    },
    {
     "name": "stdout",
     "output_type": "stream",
     "text": [
      "Saved /Users/folasewaabdulsalam/Seizure_Onset/preprocessed_data/chb05_38_preprocessed.h5\n"
     ]
    },
    {
     "name": "stderr",
     "output_type": "stream",
     "text": [
      "Preprocessing .h5 Files:  42%|████▏     | 31/73 [02:52<05:03,  7.24s/it]"
     ]
    },
    {
     "name": "stdout",
     "output_type": "stream",
     "text": [
      "Saved /Users/folasewaabdulsalam/Seizure_Onset/preprocessed_data/chb23_08_preprocessed.h5\n"
     ]
    },
    {
     "name": "stderr",
     "output_type": "stream",
     "text": [
      "Preprocessing .h5 Files:  44%|████▍     | 32/73 [02:57<04:20,  6.34s/it]"
     ]
    },
    {
     "name": "stdout",
     "output_type": "stream",
     "text": [
      "Saved /Users/folasewaabdulsalam/Seizure_Onset/preprocessed_data/chb02_33_preprocessed.h5\n"
     ]
    },
    {
     "name": "stderr",
     "output_type": "stream",
     "text": [
      "Preprocessing .h5 Files:  45%|████▌     | 33/73 [03:01<03:51,  5.78s/it]"
     ]
    },
    {
     "name": "stdout",
     "output_type": "stream",
     "text": [
      "Saved /Users/folasewaabdulsalam/Seizure_Onset/preprocessed_data/chb24_03_preprocessed.h5\n"
     ]
    },
    {
     "name": "stderr",
     "output_type": "stream",
     "text": [
      "Preprocessing .h5 Files:  47%|████▋     | 34/73 [03:05<03:28,  5.34s/it]"
     ]
    },
    {
     "name": "stdout",
     "output_type": "stream",
     "text": [
      "Saved /Users/folasewaabdulsalam/Seizure_Onset/preprocessed_data/chb24_13_preprocessed.h5\n"
     ]
    },
    {
     "name": "stderr",
     "output_type": "stream",
     "text": [
      "Preprocessing .h5 Files:  48%|████▊     | 35/73 [03:10<03:11,  5.03s/it]"
     ]
    },
    {
     "name": "stdout",
     "output_type": "stream",
     "text": [
      "Saved /Users/folasewaabdulsalam/Seizure_Onset/preprocessed_data/chb05_39_preprocessed.h5\n"
     ]
    },
    {
     "name": "stderr",
     "output_type": "stream",
     "text": [
      "Preprocessing .h5 Files:  49%|████▉     | 36/73 [03:28<05:37,  9.12s/it]"
     ]
    },
    {
     "name": "stdout",
     "output_type": "stream",
     "text": [
      "Saved /Users/folasewaabdulsalam/Seizure_Onset/preprocessed_data/chb23_09_preprocessed.h5\n"
     ]
    },
    {
     "name": "stderr",
     "output_type": "stream",
     "text": [
      "Preprocessing .h5 Files:  51%|█████     | 37/73 [03:33<04:35,  7.65s/it]"
     ]
    },
    {
     "name": "stdout",
     "output_type": "stream",
     "text": [
      "Saved /Users/folasewaabdulsalam/Seizure_Onset/preprocessed_data/chb02_32_preprocessed.h5\n"
     ]
    },
    {
     "name": "stderr",
     "output_type": "stream",
     "text": [
      "Preprocessing .h5 Files:  52%|█████▏    | 38/73 [03:37<03:53,  6.66s/it]"
     ]
    },
    {
     "name": "stdout",
     "output_type": "stream",
     "text": [
      "Saved /Users/folasewaabdulsalam/Seizure_Onset/preprocessed_data/chb24_02_preprocessed.h5\n"
     ]
    },
    {
     "name": "stderr",
     "output_type": "stream",
     "text": [
      "Preprocessing .h5 Files:  53%|█████▎    | 39/73 [03:41<03:22,  5.96s/it]"
     ]
    },
    {
     "name": "stdout",
     "output_type": "stream",
     "text": [
      "Saved /Users/folasewaabdulsalam/Seizure_Onset/preprocessed_data/chb24_12_preprocessed.h5\n"
     ]
    },
    {
     "name": "stderr",
     "output_type": "stream",
     "text": [
      "Preprocessing .h5 Files:  55%|█████▍    | 40/73 [03:46<03:00,  5.47s/it]"
     ]
    },
    {
     "name": "stdout",
     "output_type": "stream",
     "text": [
      "Saved /Users/folasewaabdulsalam/Seizure_Onset/preprocessed_data/chb01_38_preprocessed.h5\n"
     ]
    },
    {
     "name": "stderr",
     "output_type": "stream",
     "text": [
      "Preprocessing .h5 Files:  56%|█████▌    | 41/73 [03:47<02:16,  4.26s/it]"
     ]
    },
    {
     "name": "stdout",
     "output_type": "stream",
     "text": [
      "Saved /Users/folasewaabdulsalam/Seizure_Onset/preprocessed_data/chb02_16_preprocessed.h5\n"
     ]
    },
    {
     "name": "stderr",
     "output_type": "stream",
     "text": [
      "Preprocessing .h5 Files:  58%|█████▊    | 42/73 [04:07<04:36,  8.91s/it]"
     ]
    },
    {
     "name": "stdout",
     "output_type": "stream",
     "text": [
      "Saved /Users/folasewaabdulsalam/Seizure_Onset/preprocessed_data/chb23_19_preprocessed.h5\n"
     ]
    },
    {
     "name": "stderr",
     "output_type": "stream",
     "text": [
      "Preprocessing .h5 Files:  59%|█████▉    | 43/73 [04:11<03:46,  7.54s/it]"
     ]
    },
    {
     "name": "stdout",
     "output_type": "stream",
     "text": [
      "Saved /Users/folasewaabdulsalam/Seizure_Onset/preprocessed_data/chb24_06_preprocessed.h5\n"
     ]
    },
    {
     "name": "stderr",
     "output_type": "stream",
     "text": [
      "Preprocessing .h5 Files:  60%|██████    | 44/73 [04:15<03:10,  6.56s/it]"
     ]
    },
    {
     "name": "stdout",
     "output_type": "stream",
     "text": [
      "Saved /Users/folasewaabdulsalam/Seizure_Onset/preprocessed_data/chb01_18_preprocessed.h5\n"
     ]
    },
    {
     "name": "stderr",
     "output_type": "stream",
     "text": [
      "Preprocessing .h5 Files:  62%|██████▏   | 45/73 [04:17<02:19,  5.00s/it]"
     ]
    },
    {
     "name": "stdout",
     "output_type": "stream",
     "text": [
      "Saved /Users/folasewaabdulsalam/Seizure_Onset/preprocessed_data/chb24_22_preprocessed.h5\n"
     ]
    },
    {
     "name": "stderr",
     "output_type": "stream",
     "text": [
      "Preprocessing .h5 Files:  63%|██████▎   | 46/73 [04:21<02:08,  4.77s/it]"
     ]
    },
    {
     "name": "stdout",
     "output_type": "stream",
     "text": [
      "Saved /Users/folasewaabdulsalam/Seizure_Onset/preprocessed_data/chb01_08_preprocessed.h5\n"
     ]
    },
    {
     "name": "stderr",
     "output_type": "stream",
     "text": [
      "Preprocessing .h5 Files:  64%|██████▍   | 47/73 [04:25<02:01,  4.65s/it]"
     ]
    },
    {
     "name": "stdout",
     "output_type": "stream",
     "text": [
      "Saved /Users/folasewaabdulsalam/Seizure_Onset/preprocessed_data/chb24_16_preprocessed.h5\n"
     ]
    },
    {
     "name": "stderr",
     "output_type": "stream",
     "text": [
      "Preprocessing .h5 Files:  66%|██████▌   | 48/73 [04:30<01:53,  4.54s/it]"
     ]
    },
    {
     "name": "stdout",
     "output_type": "stream",
     "text": [
      "Saved /Users/folasewaabdulsalam/Seizure_Onset/preprocessed_data/chb02_31_preprocessed.h5\n"
     ]
    },
    {
     "name": "stderr",
     "output_type": "stream",
     "text": [
      "Preprocessing .h5 Files:  67%|██████▋   | 49/73 [04:34<01:47,  4.47s/it]"
     ]
    },
    {
     "name": "stdout",
     "output_type": "stream",
     "text": [
      "Saved /Users/folasewaabdulsalam/Seizure_Onset/preprocessed_data/chb24_01_preprocessed.h5\n"
     ]
    },
    {
     "name": "stderr",
     "output_type": "stream",
     "text": [
      "Preprocessing .h5 Files:  68%|██████▊   | 50/73 [04:38<01:41,  4.40s/it]"
     ]
    },
    {
     "name": "stdout",
     "output_type": "stream",
     "text": [
      "Saved /Users/folasewaabdulsalam/Seizure_Onset/preprocessed_data/chb24_11_preprocessed.h5\n"
     ]
    },
    {
     "name": "stderr",
     "output_type": "stream",
     "text": [
      "Preprocessing .h5 Files:  70%|██████▉   | 51/73 [04:43<01:37,  4.43s/it]"
     ]
    },
    {
     "name": "stdout",
     "output_type": "stream",
     "text": [
      "Saved /Users/folasewaabdulsalam/Seizure_Onset/preprocessed_data/chb02_35_preprocessed.h5\n"
     ]
    },
    {
     "name": "stderr",
     "output_type": "stream",
     "text": [
      "Preprocessing .h5 Files:  71%|███████   | 52/73 [04:47<01:32,  4.40s/it]"
     ]
    },
    {
     "name": "stdout",
     "output_type": "stream",
     "text": [
      "Saved /Users/folasewaabdulsalam/Seizure_Onset/preprocessed_data/chb24_05_preprocessed.h5\n"
     ]
    },
    {
     "name": "stderr",
     "output_type": "stream",
     "text": [
      "Preprocessing .h5 Files:  73%|███████▎  | 53/73 [04:52<01:29,  4.47s/it]"
     ]
    },
    {
     "name": "stdout",
     "output_type": "stream",
     "text": [
      "Saved /Users/folasewaabdulsalam/Seizure_Onset/preprocessed_data/chb24_21_preprocessed.h5\n"
     ]
    },
    {
     "name": "stderr",
     "output_type": "stream",
     "text": [
      "Preprocessing .h5 Files:  74%|███████▍  | 54/73 [04:56<01:24,  4.45s/it]"
     ]
    },
    {
     "name": "stdout",
     "output_type": "stream",
     "text": [
      "Saved /Users/folasewaabdulsalam/Seizure_Onset/preprocessed_data/chb24_15_preprocessed.h5\n"
     ]
    },
    {
     "name": "stderr",
     "output_type": "stream",
     "text": [
      "Preprocessing .h5 Files:  75%|███████▌  | 55/73 [05:00<01:19,  4.42s/it]"
     ]
    },
    {
     "name": "stdout",
     "output_type": "stream",
     "text": [
      "Saved /Users/folasewaabdulsalam/Seizure_Onset/preprocessed_data/chb02_34_preprocessed.h5\n"
     ]
    },
    {
     "name": "stderr",
     "output_type": "stream",
     "text": [
      "Preprocessing .h5 Files:  77%|███████▋  | 56/73 [05:05<01:14,  4.39s/it]"
     ]
    },
    {
     "name": "stdout",
     "output_type": "stream",
     "text": [
      "Saved /Users/folasewaabdulsalam/Seizure_Onset/preprocessed_data/chb24_04_preprocessed.h5\n"
     ]
    },
    {
     "name": "stderr",
     "output_type": "stream",
     "text": [
      "Preprocessing .h5 Files:  78%|███████▊  | 57/73 [05:09<01:10,  4.38s/it]"
     ]
    },
    {
     "name": "stdout",
     "output_type": "stream",
     "text": [
      "Saved /Users/folasewaabdulsalam/Seizure_Onset/preprocessed_data/chb24_20_preprocessed.h5\n"
     ]
    },
    {
     "name": "stderr",
     "output_type": "stream",
     "text": [
      "Preprocessing .h5 Files:  79%|███████▉  | 58/73 [05:13<01:05,  4.35s/it]"
     ]
    },
    {
     "name": "stdout",
     "output_type": "stream",
     "text": [
      "Saved /Users/folasewaabdulsalam/Seizure_Onset/preprocessed_data/chb24_14_preprocessed.h5\n"
     ]
    },
    {
     "name": "stderr",
     "output_type": "stream",
     "text": [
      "Preprocessing .h5 Files:  81%|████████  | 59/73 [05:18<01:00,  4.32s/it]"
     ]
    },
    {
     "name": "stdout",
     "output_type": "stream",
     "text": [
      "Saved /Users/folasewaabdulsalam/Seizure_Onset/preprocessed_data/chb01_15_preprocessed.h5\n"
     ]
    },
    {
     "name": "stderr",
     "output_type": "stream",
     "text": [
      "Preprocessing .h5 Files:  82%|████████▏ | 60/73 [05:22<00:55,  4.30s/it]"
     ]
    },
    {
     "name": "stdout",
     "output_type": "stream",
     "text": [
      "Saved /Users/folasewaabdulsalam/Seizure_Onset/preprocessed_data/chb03_01_preprocessed.h5\n"
     ]
    },
    {
     "name": "stderr",
     "output_type": "stream",
     "text": [
      "Preprocessing .h5 Files:  84%|████████▎ | 61/73 [05:26<00:51,  4.31s/it]"
     ]
    },
    {
     "name": "stdout",
     "output_type": "stream",
     "text": [
      "Saved /Users/folasewaabdulsalam/Seizure_Onset/preprocessed_data/chb03_35_preprocessed.h5\n"
     ]
    },
    {
     "name": "stderr",
     "output_type": "stream",
     "text": [
      "Preprocessing .h5 Files:  85%|████████▍ | 62/73 [05:31<00:47,  4.31s/it]"
     ]
    },
    {
     "name": "stdout",
     "output_type": "stream",
     "text": [
      "Saved /Users/folasewaabdulsalam/Seizure_Onset/preprocessed_data/chb01_21_preprocessed.h5\n"
     ]
    },
    {
     "name": "stderr",
     "output_type": "stream",
     "text": [
      "Preprocessing .h5 Files:  86%|████████▋ | 63/73 [05:49<01:25,  8.50s/it]"
     ]
    },
    {
     "name": "stdout",
     "output_type": "stream",
     "text": [
      "Saved /Users/folasewaabdulsalam/Seizure_Onset/preprocessed_data/chb23_10_preprocessed.h5\n"
     ]
    },
    {
     "name": "stderr",
     "output_type": "stream",
     "text": [
      "Preprocessing .h5 Files:  88%|████████▊ | 64/73 [05:53<01:05,  7.27s/it]"
     ]
    },
    {
     "name": "stdout",
     "output_type": "stream",
     "text": [
      "Saved /Users/folasewaabdulsalam/Seizure_Onset/preprocessed_data/chb01_05_preprocessed.h5\n"
     ]
    },
    {
     "name": "stderr",
     "output_type": "stream",
     "text": [
      "Preprocessing .h5 Files:  89%|████████▉ | 65/73 [05:57<00:50,  6.33s/it]"
     ]
    },
    {
     "name": "stdout",
     "output_type": "stream",
     "text": [
      "Saved /Users/folasewaabdulsalam/Seizure_Onset/preprocessed_data/chb03_05_preprocessed.h5\n"
     ]
    },
    {
     "name": "stderr",
     "output_type": "stream",
     "text": [
      "Preprocessing .h5 Files:  90%|█████████ | 66/73 [06:02<00:40,  5.72s/it]"
     ]
    },
    {
     "name": "stdout",
     "output_type": "stream",
     "text": [
      "Saved /Users/folasewaabdulsalam/Seizure_Onset/preprocessed_data/chb05_34_preprocessed.h5\n"
     ]
    },
    {
     "name": "stderr",
     "output_type": "stream",
     "text": [
      "Preprocessing .h5 Files:  92%|█████████▏| 67/73 [06:08<00:34,  5.83s/it]"
     ]
    },
    {
     "name": "stdout",
     "output_type": "stream",
     "text": [
      "Saved /Users/folasewaabdulsalam/Seizure_Onset/preprocessed_data/chb23_20_preprocessed.h5\n"
     ]
    },
    {
     "name": "stderr",
     "output_type": "stream",
     "text": [
      "Preprocessing .h5 Files:  93%|█████████▎| 68/73 [06:12<00:26,  5.37s/it]"
     ]
    },
    {
     "name": "stdout",
     "output_type": "stream",
     "text": [
      "Saved /Users/folasewaabdulsalam/Seizure_Onset/preprocessed_data/chb01_01_preprocessed.h5\n"
     ]
    },
    {
     "name": "stderr",
     "output_type": "stream",
     "text": [
      "Preprocessing .h5 Files:  95%|█████████▍| 69/73 [06:16<00:19,  4.99s/it]"
     ]
    },
    {
     "name": "stdout",
     "output_type": "stream",
     "text": [
      "Saved /Users/folasewaabdulsalam/Seizure_Onset/preprocessed_data/chb03_04_preprocessed.h5\n"
     ]
    },
    {
     "name": "stderr",
     "output_type": "stream",
     "text": [
      "Preprocessing .h5 Files:  96%|█████████▌| 70/73 [06:20<00:14,  4.76s/it]"
     ]
    },
    {
     "name": "stdout",
     "output_type": "stream",
     "text": [
      "Saved /Users/folasewaabdulsalam/Seizure_Onset/preprocessed_data/chb01_10_preprocessed.h5\n"
     ]
    },
    {
     "name": "stderr",
     "output_type": "stream",
     "text": [
      "Preprocessing .h5 Files:  97%|█████████▋| 71/73 [06:25<00:09,  4.62s/it]"
     ]
    },
    {
     "name": "stdout",
     "output_type": "stream",
     "text": [
      "Saved /Users/folasewaabdulsalam/Seizure_Onset/preprocessed_data/chb05_01_preprocessed.h5\n"
     ]
    },
    {
     "name": "stderr",
     "output_type": "stream",
     "text": [
      "Preprocessing .h5 Files:  99%|█████████▊| 72/73 [06:29<00:04,  4.50s/it]"
     ]
    },
    {
     "name": "stdout",
     "output_type": "stream",
     "text": [
      "Saved /Users/folasewaabdulsalam/Seizure_Onset/preprocessed_data/chb03_34_preprocessed.h5\n"
     ]
    },
    {
     "name": "stderr",
     "output_type": "stream",
     "text": [
      "Preprocessing .h5 Files: 100%|██████████| 73/73 [06:33<00:00,  5.39s/it]"
     ]
    },
    {
     "name": "stdout",
     "output_type": "stream",
     "text": [
      "Saved /Users/folasewaabdulsalam/Seizure_Onset/preprocessed_data/chb01_04_preprocessed.h5\n",
      "\n",
      "Preprocessing complete!\n"
     ]
    },
    {
     "name": "stderr",
     "output_type": "stream",
     "text": [
      "\n"
     ]
    }
   ],
   "source": [
    "\n",
    "# Directories\n",
    "h5_full_path = \"/Users/folasewaabdulsalam/Seizure_Onset/h5_files\"\n",
    "annotations_file = \"/Users/folasewaabdulsalam/Seizure_Onset/seizure_annotations.txt\"\n",
    "preprocessed_path = \"/Users/folasewaabdulsalam/Seizure_Onset/preprocessed_data\"\n",
    "os.makedirs(preprocessed_path, exist_ok=True)\n",
    "\n",
    "FILTER_BANDS = [\n",
    "    (0.5, 3.625),\n",
    "    (3.625, 6.75),\n",
    "    (6.75, 9.875),\n",
    "    (9.875, 13.0),\n",
    "    (13.0, 16.125),\n",
    "    (16.125, 19.25),\n",
    "    (19.25, 22.375),\n",
    "    (22.375, 25.0)\n",
    "]\n",
    "\n",
    "SELECTED_CHANNELS = list(range(18))\n",
    "\n",
    "WINDOW_SIZE = 2 * 256  # 2 seconds at 256 Hz\n",
    "FS = 256  # Sampling rate\n",
    "\n",
    "def load_annotations(annotations_file):\n",
    "    \"\"\"\n",
    "    Load seizure annotations from a plain text file.\n",
    "    \"\"\"\n",
    "    seizure_annotations = {}\n",
    "    with open(annotations_file, \"r\") as f:\n",
    "        for line in f:\n",
    "            # Split by space\n",
    "            parts = line.strip().split()\n",
    "            \n",
    "            # Extract file name (without the _preprocessed suffix)\n",
    "            file_name = parts[0].strip()\n",
    "            \n",
    "            # Extract event and time\n",
    "            event = parts[1].strip().encode(\"utf-8\")\n",
    "            time = int(parts[2].strip())\n",
    "            \n",
    "            # Store the annotation\n",
    "            if file_name not in seizure_annotations:\n",
    "                seizure_annotations[file_name] = []\n",
    "            seizure_annotations[file_name].append((event, time))\n",
    "    \n",
    "    # Convert each list to a structured numpy array\n",
    "    for key in seizure_annotations.keys():\n",
    "        seizure_annotations[key] = np.array(seizure_annotations[key], dtype=[(\"event\", \"S5\"), (\"time\", \"i4\")])\n",
    "    \n",
    "    return seizure_annotations\n",
    "\n",
    "def preprocess_h5_files(h5_full_path, preprocessed_path, annotations_file):\n",
    "    \"\"\"\n",
    "    Preprocess .h5 files by applying bandpass filtering and channel selection.\n",
    "    \"\"\"\n",
    "    # Load annotations\n",
    "    seizure_annotations = load_annotations(annotations_file)\n",
    "\n",
    "    for file_name in tqdm(os.listdir(h5_full_path), desc=\"Preprocessing .h5 Files\"):\n",
    "        if file_name.endswith(\".h5\"):\n",
    "            file_path = os.path.join(h5_full_path, file_name)\n",
    "            output_file_path = os.path.join(preprocessed_path, file_name.replace(\".h5\", \"_preprocessed.h5\"))\n",
    "\n",
    "            with h5py.File(file_path, \"r\") as hf:\n",
    "                signals = hf[\"data\"][:]\n",
    "\n",
    "                # Select only the first 18 channels\n",
    "                if signals.shape[0] < 18:\n",
    "                    print(f\"⚠️ WARNING: Skipping file {file_name} with fewer than 18 channels. Found {signals.shape[0]}\")\n",
    "                    continue\n",
    "\n",
    "                signals = signals[:18, :]  # Use the first 18 channels\n",
    "\n",
    "                # Apply bandpass filtering\n",
    "                sos = butter(4, [0.5, 25.0], btype='band', fs=FS, output='sos')\n",
    "                filtered_signals = sosfiltfilt(sos, signals, axis=1)\n",
    "\n",
    "                # Save the preprocessed data\n",
    "                with h5py.File(output_file_path, \"w\") as out_hf:\n",
    "                    out_hf.create_dataset(\"data\", data=filtered_signals, compression=\"gzip\")\n",
    "                    out_hf.attrs[\"channels\"] = list(range(18))\n",
    "\n",
    "                    # Attach annotations if available\n",
    "                    file_base_name = file_name.replace(\".h5\", \"\")\n",
    "                    if file_base_name in seizure_annotations:\n",
    "                        out_hf.attrs[\"seizure_annotations\"] = seizure_annotations[file_base_name]\n",
    "\n",
    "                print(f\"Saved {output_file_path}\")\n",
    "\n",
    "preprocess_h5_files(h5_full_path, preprocessed_path, annotations_file)\n",
    "print(\"\\nPreprocessing complete!\")\n",
    "\n"
   ]
  },
  {
   "cell_type": "code",
   "execution_count": 81,
   "id": "eb303ee0",
   "metadata": {},
   "outputs": [
    {
     "name": "stderr",
     "output_type": "stream",
     "text": [
      "Extracting Features:   1%|▏         | 1/73 [00:05<06:08,  5.12s/it]"
     ]
    },
    {
     "name": "stdout",
     "output_type": "stream",
     "text": [
      "Saved /Users/folasewaabdulsalam/Seizure_Onset/feature_path/chb01_46_features.h5\n"
     ]
    },
    {
     "name": "stderr",
     "output_type": "stream",
     "text": [
      "Extracting Features:   3%|▎         | 2/73 [00:09<05:52,  4.97s/it]"
     ]
    },
    {
     "name": "stdout",
     "output_type": "stream",
     "text": [
      "Saved /Users/folasewaabdulsalam/Seizure_Onset/feature_path/chb01_01_features.h5\n"
     ]
    },
    {
     "name": "stderr",
     "output_type": "stream",
     "text": [
      "Extracting Features:   4%|▍         | 3/73 [00:15<05:55,  5.08s/it]"
     ]
    },
    {
     "name": "stdout",
     "output_type": "stream",
     "text": [
      "Saved /Users/folasewaabdulsalam/Seizure_Onset/feature_path/chb24_07_features.h5\n"
     ]
    },
    {
     "name": "stderr",
     "output_type": "stream",
     "text": [
      "Extracting Features:   5%|▌         | 4/73 [00:20<05:54,  5.14s/it]"
     ]
    },
    {
     "name": "stdout",
     "output_type": "stream",
     "text": [
      "Saved /Users/folasewaabdulsalam/Seizure_Onset/feature_path/chb01_18_features.h5\n"
     ]
    },
    {
     "name": "stderr",
     "output_type": "stream",
     "text": [
      "Extracting Features:   7%|▋         | 5/73 [00:25<05:57,  5.26s/it]"
     ]
    },
    {
     "name": "stdout",
     "output_type": "stream",
     "text": [
      "Saved /Users/folasewaabdulsalam/Seizure_Onset/feature_path/chb24_11_features.h5\n"
     ]
    },
    {
     "name": "stderr",
     "output_type": "stream",
     "text": [
      "Extracting Features:   8%|▊         | 6/73 [00:31<05:51,  5.24s/it]"
     ]
    },
    {
     "name": "stdout",
     "output_type": "stream",
     "text": [
      "Saved /Users/folasewaabdulsalam/Seizure_Onset/feature_path/chb02_34_features.h5\n"
     ]
    },
    {
     "name": "stderr",
     "output_type": "stream",
     "text": [
      "Extracting Features:  10%|▉         | 7/73 [00:36<05:45,  5.24s/it]"
     ]
    },
    {
     "name": "stdout",
     "output_type": "stream",
     "text": [
      "Saved /Users/folasewaabdulsalam/Seizure_Onset/feature_path/chb24_08_features.h5\n"
     ]
    },
    {
     "name": "stderr",
     "output_type": "stream",
     "text": [
      "Extracting Features:  11%|█         | 8/73 [00:41<05:43,  5.28s/it]"
     ]
    },
    {
     "name": "stdout",
     "output_type": "stream",
     "text": [
      "Saved /Users/folasewaabdulsalam/Seizure_Onset/feature_path/chb03_03_features.h5\n"
     ]
    },
    {
     "name": "stderr",
     "output_type": "stream",
     "text": [
      "Extracting Features:  12%|█▏        | 9/73 [00:46<05:34,  5.23s/it]"
     ]
    },
    {
     "name": "stdout",
     "output_type": "stream",
     "text": [
      "Saved /Users/folasewaabdulsalam/Seizure_Onset/feature_path/chb03_04_features.h5\n"
     ]
    },
    {
     "name": "stderr",
     "output_type": "stream",
     "text": [
      "Extracting Features:  14%|█▎        | 10/73 [00:52<05:31,  5.27s/it]"
     ]
    },
    {
     "name": "stdout",
     "output_type": "stream",
     "text": [
      "Saved /Users/folasewaabdulsalam/Seizure_Onset/feature_path/chb05_13_features.h5\n"
     ]
    },
    {
     "name": "stderr",
     "output_type": "stream",
     "text": [
      "Extracting Features:  15%|█▌        | 11/73 [00:57<05:29,  5.31s/it]"
     ]
    },
    {
     "name": "stdout",
     "output_type": "stream",
     "text": [
      "Saved /Users/folasewaabdulsalam/Seizure_Onset/feature_path/chb02_33_features.h5\n"
     ]
    },
    {
     "name": "stderr",
     "output_type": "stream",
     "text": [
      "Extracting Features:  16%|█▋        | 12/73 [01:02<05:20,  5.26s/it]"
     ]
    },
    {
     "name": "stdout",
     "output_type": "stream",
     "text": [
      "Saved /Users/folasewaabdulsalam/Seizure_Onset/feature_path/chb24_16_features.h5\n"
     ]
    },
    {
     "name": "stderr",
     "output_type": "stream",
     "text": [
      "Extracting Features:  18%|█▊        | 13/73 [01:07<05:05,  5.08s/it]"
     ]
    },
    {
     "name": "stdout",
     "output_type": "stream",
     "text": [
      "Saved /Users/folasewaabdulsalam/Seizure_Onset/feature_path/chb01_10_features.h5\n"
     ]
    },
    {
     "name": "stderr",
     "output_type": "stream",
     "text": [
      "Extracting Features:  19%|█▉        | 14/73 [01:12<04:54,  5.00s/it]"
     ]
    },
    {
     "name": "stdout",
     "output_type": "stream",
     "text": [
      "Saved /Users/folasewaabdulsalam/Seizure_Onset/feature_path/chb05_38_features.h5\n"
     ]
    },
    {
     "name": "stderr",
     "output_type": "stream",
     "text": [
      "Extracting Features:  21%|██        | 15/73 [01:17<04:55,  5.10s/it]"
     ]
    },
    {
     "name": "stdout",
     "output_type": "stream",
     "text": [
      "Saved /Users/folasewaabdulsalam/Seizure_Onset/feature_path/chb24_19_features.h5\n"
     ]
    },
    {
     "name": "stderr",
     "output_type": "stream",
     "text": [
      "Extracting Features:  22%|██▏       | 16/73 [01:24<05:22,  5.66s/it]"
     ]
    },
    {
     "name": "stdout",
     "output_type": "stream",
     "text": [
      "Saved /Users/folasewaabdulsalam/Seizure_Onset/feature_path/chb23_20_features.h5\n"
     ]
    },
    {
     "name": "stderr",
     "output_type": "stream",
     "text": [
      "Extracting Features:  23%|██▎       | 17/73 [01:29<05:03,  5.42s/it]"
     ]
    },
    {
     "name": "stdout",
     "output_type": "stream",
     "text": [
      "Saved /Users/folasewaabdulsalam/Seizure_Onset/feature_path/chb03_36_features.h5\n"
     ]
    },
    {
     "name": "stderr",
     "output_type": "stream",
     "text": [
      "Extracting Features:  25%|██▍       | 18/73 [01:34<04:49,  5.27s/it]"
     ]
    },
    {
     "name": "stdout",
     "output_type": "stream",
     "text": [
      "Saved /Users/folasewaabdulsalam/Seizure_Onset/feature_path/chb01_06_features.h5\n"
     ]
    },
    {
     "name": "stderr",
     "output_type": "stream",
     "text": [
      "Extracting Features:  26%|██▌       | 19/73 [01:38<04:35,  5.10s/it]"
     ]
    },
    {
     "name": "stdout",
     "output_type": "stream",
     "text": [
      "Saved /Users/folasewaabdulsalam/Seizure_Onset/feature_path/chb02_32_features.h5\n"
     ]
    },
    {
     "name": "stderr",
     "output_type": "stream",
     "text": [
      "Extracting Features:  27%|██▋       | 20/73 [01:43<04:27,  5.04s/it]"
     ]
    },
    {
     "name": "stdout",
     "output_type": "stream",
     "text": [
      "Saved /Users/folasewaabdulsalam/Seizure_Onset/feature_path/chb03_05_features.h5\n"
     ]
    },
    {
     "name": "stderr",
     "output_type": "stream",
     "text": [
      "Extracting Features:  29%|██▉       | 21/73 [01:48<04:20,  5.01s/it]"
     ]
    },
    {
     "name": "stdout",
     "output_type": "stream",
     "text": [
      "Saved /Users/folasewaabdulsalam/Seizure_Onset/feature_path/chb01_08_features.h5\n"
     ]
    },
    {
     "name": "stderr",
     "output_type": "stream",
     "text": [
      "Extracting Features:  30%|███       | 22/73 [01:53<04:16,  5.03s/it]"
     ]
    },
    {
     "name": "stdout",
     "output_type": "stream",
     "text": [
      "Saved /Users/folasewaabdulsalam/Seizure_Onset/feature_path/chb24_17_features.h5\n"
     ]
    },
    {
     "name": "stderr",
     "output_type": "stream",
     "text": [
      "Extracting Features:  32%|███▏      | 23/73 [01:55<03:15,  3.91s/it]"
     ]
    },
    {
     "name": "stdout",
     "output_type": "stream",
     "text": [
      "Saved /Users/folasewaabdulsalam/Seizure_Onset/feature_path/chb02_16_features.h5\n"
     ]
    },
    {
     "name": "stderr",
     "output_type": "stream",
     "text": [
      "Extracting Features:  33%|███▎      | 24/73 [01:59<03:23,  4.15s/it]"
     ]
    },
    {
     "name": "stdout",
     "output_type": "stream",
     "text": [
      "Saved /Users/folasewaabdulsalam/Seizure_Onset/feature_path/chb05_36_features.h5\n"
     ]
    },
    {
     "name": "stderr",
     "output_type": "stream",
     "text": [
      "Extracting Features:  34%|███▍      | 25/73 [02:04<03:29,  4.36s/it]"
     ]
    },
    {
     "name": "stdout",
     "output_type": "stream",
     "text": [
      "Saved /Users/folasewaabdulsalam/Seizure_Onset/feature_path/chb24_18_features.h5\n"
     ]
    },
    {
     "name": "stderr",
     "output_type": "stream",
     "text": [
      "Extracting Features:  36%|███▌      | 26/73 [02:09<03:34,  4.57s/it]"
     ]
    },
    {
     "name": "stdout",
     "output_type": "stream",
     "text": [
      "Saved /Users/folasewaabdulsalam/Seizure_Onset/feature_path/chb05_39_features.h5\n"
     ]
    },
    {
     "name": "stderr",
     "output_type": "stream",
     "text": [
      "Extracting Features:  37%|███▋      | 27/73 [02:14<03:35,  4.69s/it]"
     ]
    },
    {
     "name": "stdout",
     "output_type": "stream",
     "text": [
      "Saved /Users/folasewaabdulsalam/Seizure_Onset/feature_path/chb02_19_features.h5\n"
     ]
    },
    {
     "name": "stderr",
     "output_type": "stream",
     "text": [
      "Extracting Features:  38%|███▊      | 28/73 [02:19<03:32,  4.73s/it]"
     ]
    },
    {
     "name": "stdout",
     "output_type": "stream",
     "text": [
      "Saved /Users/folasewaabdulsalam/Seizure_Onset/feature_path/chb24_01_features.h5\n"
     ]
    },
    {
     "name": "stderr",
     "output_type": "stream",
     "text": [
      "Extracting Features:  40%|███▉      | 29/73 [02:24<03:29,  4.75s/it]"
     ]
    },
    {
     "name": "stdout",
     "output_type": "stream",
     "text": [
      "Saved /Users/folasewaabdulsalam/Seizure_Onset/feature_path/chb01_07_features.h5\n"
     ]
    },
    {
     "name": "stderr",
     "output_type": "stream",
     "text": [
      "Extracting Features:  41%|████      | 30/73 [02:29<03:26,  4.80s/it]"
     ]
    },
    {
     "name": "stdout",
     "output_type": "stream",
     "text": [
      "Saved /Users/folasewaabdulsalam/Seizure_Onset/feature_path/chb24_06_features.h5\n"
     ]
    },
    {
     "name": "stderr",
     "output_type": "stream",
     "text": [
      "Extracting Features:  42%|████▏     | 31/73 [02:30<02:39,  3.79s/it]"
     ]
    },
    {
     "name": "stdout",
     "output_type": "stream",
     "text": [
      "Saved /Users/folasewaabdulsalam/Seizure_Onset/feature_path/chb24_22_features.h5\n"
     ]
    },
    {
     "name": "stderr",
     "output_type": "stream",
     "text": [
      "Extracting Features:  44%|████▍     | 32/73 [02:35<02:49,  4.12s/it]"
     ]
    },
    {
     "name": "stdout",
     "output_type": "stream",
     "text": [
      "Saved /Users/folasewaabdulsalam/Seizure_Onset/feature_path/chb02_16+_features.h5\n"
     ]
    },
    {
     "name": "stderr",
     "output_type": "stream",
     "text": [
      "Extracting Features:  45%|████▌     | 33/73 [02:40<02:54,  4.37s/it]"
     ]
    },
    {
     "name": "stdout",
     "output_type": "stream",
     "text": [
      "Saved /Users/folasewaabdulsalam/Seizure_Onset/feature_path/chb01_16_features.h5\n"
     ]
    },
    {
     "name": "stderr",
     "output_type": "stream",
     "text": [
      "Extracting Features:  47%|████▋     | 34/73 [02:45<02:55,  4.51s/it]"
     ]
    },
    {
     "name": "stdout",
     "output_type": "stream",
     "text": [
      "Saved /Users/folasewaabdulsalam/Seizure_Onset/feature_path/chb24_09_features.h5\n"
     ]
    },
    {
     "name": "stderr",
     "output_type": "stream",
     "text": [
      "Extracting Features:  48%|████▊     | 35/73 [02:50<02:54,  4.60s/it]"
     ]
    },
    {
     "name": "stdout",
     "output_type": "stream",
     "text": [
      "Saved /Users/folasewaabdulsalam/Seizure_Onset/feature_path/chb03_02_features.h5\n"
     ]
    },
    {
     "name": "stderr",
     "output_type": "stream",
     "text": [
      "Extracting Features:  49%|████▉     | 36/73 [02:55<02:52,  4.67s/it]"
     ]
    },
    {
     "name": "stdout",
     "output_type": "stream",
     "text": [
      "Saved /Users/folasewaabdulsalam/Seizure_Onset/feature_path/chb02_35_features.h5\n"
     ]
    },
    {
     "name": "stderr",
     "output_type": "stream",
     "text": [
      "Extracting Features:  51%|█████     | 37/73 [03:09<04:30,  7.50s/it]"
     ]
    },
    {
     "name": "stdout",
     "output_type": "stream",
     "text": [
      "Saved /Users/folasewaabdulsalam/Seizure_Onset/feature_path/chb23_08_features.h5\n"
     ]
    },
    {
     "name": "stderr",
     "output_type": "stream",
     "text": [
      "Extracting Features:  52%|█████▏    | 38/73 [03:13<03:54,  6.69s/it]"
     ]
    },
    {
     "name": "stdout",
     "output_type": "stream",
     "text": [
      "Saved /Users/folasewaabdulsalam/Seizure_Onset/feature_path/chb24_15_features.h5\n"
     ]
    },
    {
     "name": "stderr",
     "output_type": "stream",
     "text": [
      "Extracting Features:  53%|█████▎    | 39/73 [03:18<03:29,  6.15s/it]"
     ]
    },
    {
     "name": "stdout",
     "output_type": "stream",
     "text": [
      "Saved /Users/folasewaabdulsalam/Seizure_Onset/feature_path/chb05_34_features.h5\n"
     ]
    },
    {
     "name": "stderr",
     "output_type": "stream",
     "text": [
      "Extracting Features:  55%|█████▍    | 40/73 [03:23<03:12,  5.83s/it]"
     ]
    },
    {
     "name": "stdout",
     "output_type": "stream",
     "text": [
      "Saved /Users/folasewaabdulsalam/Seizure_Onset/feature_path/chb05_22_features.h5\n"
     ]
    },
    {
     "name": "stderr",
     "output_type": "stream",
     "text": [
      "Extracting Features:  56%|█████▌    | 41/73 [03:29<02:59,  5.62s/it]"
     ]
    },
    {
     "name": "stdout",
     "output_type": "stream",
     "text": [
      "Saved /Users/folasewaabdulsalam/Seizure_Onset/feature_path/chb24_03_features.h5\n"
     ]
    },
    {
     "name": "stderr",
     "output_type": "stream",
     "text": [
      "Extracting Features:  58%|█████▊    | 42/73 [03:33<02:47,  5.39s/it]"
     ]
    },
    {
     "name": "stdout",
     "output_type": "stream",
     "text": [
      "Saved /Users/folasewaabdulsalam/Seizure_Onset/feature_path/chb01_38_features.h5\n"
     ]
    },
    {
     "name": "stderr",
     "output_type": "stream",
     "text": [
      "Extracting Features:  59%|█████▉    | 43/73 [03:38<02:35,  5.18s/it]"
     ]
    },
    {
     "name": "stdout",
     "output_type": "stream",
     "text": [
      "Saved /Users/folasewaabdulsalam/Seizure_Onset/feature_path/chb01_05_features.h5\n"
     ]
    },
    {
     "name": "stderr",
     "output_type": "stream",
     "text": [
      "Extracting Features:  60%|██████    | 44/73 [03:43<02:27,  5.07s/it]"
     ]
    },
    {
     "name": "stdout",
     "output_type": "stream",
     "text": [
      "Saved /Users/folasewaabdulsalam/Seizure_Onset/feature_path/chb03_35_features.h5\n"
     ]
    },
    {
     "name": "stderr",
     "output_type": "stream",
     "text": [
      "Extracting Features:  62%|██████▏   | 45/73 [03:48<02:19,  4.96s/it]"
     ]
    },
    {
     "name": "stdout",
     "output_type": "stream",
     "text": [
      "Saved /Users/folasewaabdulsalam/Seizure_Onset/feature_path/chb01_21_features.h5\n"
     ]
    },
    {
     "name": "stderr",
     "output_type": "stream",
     "text": [
      "Extracting Features:  63%|██████▎   | 46/73 [03:51<02:01,  4.51s/it]"
     ]
    },
    {
     "name": "stdout",
     "output_type": "stream",
     "text": [
      "Saved /Users/folasewaabdulsalam/Seizure_Onset/feature_path/chb23_07_features.h5\n"
     ]
    },
    {
     "name": "stderr",
     "output_type": "stream",
     "text": [
      "Extracting Features:  64%|██████▍   | 47/73 [03:56<01:58,  4.58s/it]"
     ]
    },
    {
     "name": "stdout",
     "output_type": "stream",
     "text": [
      "Saved /Users/folasewaabdulsalam/Seizure_Onset/feature_path/chb05_06_features.h5\n"
     ]
    },
    {
     "name": "stderr",
     "output_type": "stream",
     "text": [
      "Extracting Features:  66%|██████▌   | 48/73 [04:01<01:57,  4.70s/it]"
     ]
    },
    {
     "name": "stdout",
     "output_type": "stream",
     "text": [
      "Saved /Users/folasewaabdulsalam/Seizure_Onset/feature_path/chb05_01_features.h5\n"
     ]
    },
    {
     "name": "stderr",
     "output_type": "stream",
     "text": [
      "Extracting Features:  67%|██████▋   | 49/73 [04:06<01:58,  4.93s/it]"
     ]
    },
    {
     "name": "stdout",
     "output_type": "stream",
     "text": [
      "Saved /Users/folasewaabdulsalam/Seizure_Onset/feature_path/chb24_20_features.h5\n"
     ]
    },
    {
     "name": "stderr",
     "output_type": "stream",
     "text": [
      "Extracting Features:  68%|██████▊   | 50/73 [04:10<01:42,  4.45s/it]"
     ]
    },
    {
     "name": "stdout",
     "output_type": "stream",
     "text": [
      "Saved /Users/folasewaabdulsalam/Seizure_Onset/feature_path/chb01_26_features.h5\n"
     ]
    },
    {
     "name": "stderr",
     "output_type": "stream",
     "text": [
      "Extracting Features:  70%|██████▉   | 51/73 [04:15<01:41,  4.63s/it]"
     ]
    },
    {
     "name": "stdout",
     "output_type": "stream",
     "text": [
      "Saved /Users/folasewaabdulsalam/Seizure_Onset/feature_path/chb01_02_features.h5\n"
     ]
    },
    {
     "name": "stderr",
     "output_type": "stream",
     "text": [
      "Extracting Features:  71%|███████   | 52/73 [04:35<03:16,  9.34s/it]"
     ]
    },
    {
     "name": "stdout",
     "output_type": "stream",
     "text": [
      "Saved /Users/folasewaabdulsalam/Seizure_Onset/feature_path/chb23_19_features.h5\n"
     ]
    },
    {
     "name": "stderr",
     "output_type": "stream",
     "text": [
      "Extracting Features:  73%|███████▎  | 53/73 [04:40<02:40,  8.03s/it]"
     ]
    },
    {
     "name": "stdout",
     "output_type": "stream",
     "text": [
      "Saved /Users/folasewaabdulsalam/Seizure_Onset/feature_path/chb24_04_features.h5\n"
     ]
    },
    {
     "name": "stderr",
     "output_type": "stream",
     "text": [
      "Extracting Features:  74%|███████▍  | 54/73 [05:00<03:39, 11.56s/it]"
     ]
    },
    {
     "name": "stdout",
     "output_type": "stream",
     "text": [
      "Saved /Users/folasewaabdulsalam/Seizure_Onset/feature_path/chb23_16_features.h5\n"
     ]
    },
    {
     "name": "stderr",
     "output_type": "stream",
     "text": [
      "Extracting Features:  75%|███████▌  | 55/73 [05:05<02:52,  9.60s/it]"
     ]
    },
    {
     "name": "stdout",
     "output_type": "stream",
     "text": [
      "Saved /Users/folasewaabdulsalam/Seizure_Onset/feature_path/chb05_17_features.h5\n"
     ]
    },
    {
     "name": "stderr",
     "output_type": "stream",
     "text": [
      "Extracting Features:  77%|███████▋  | 56/73 [05:10<02:18,  8.15s/it]"
     ]
    },
    {
     "name": "stdout",
     "output_type": "stream",
     "text": [
      "Saved /Users/folasewaabdulsalam/Seizure_Onset/feature_path/chb24_12_features.h5\n"
     ]
    },
    {
     "name": "stderr",
     "output_type": "stream",
     "text": [
      "Extracting Features:  78%|███████▊  | 57/73 [05:14<01:54,  7.17s/it]"
     ]
    },
    {
     "name": "stdout",
     "output_type": "stream",
     "text": [
      "Saved /Users/folasewaabdulsalam/Seizure_Onset/feature_path/chb24_21_features.h5\n"
     ]
    },
    {
     "name": "stderr",
     "output_type": "stream",
     "text": [
      "Extracting Features:  79%|███████▉  | 58/73 [05:19<01:37,  6.50s/it]"
     ]
    },
    {
     "name": "stdout",
     "output_type": "stream",
     "text": [
      "Saved /Users/folasewaabdulsalam/Seizure_Onset/feature_path/chb01_03_features.h5\n"
     ]
    },
    {
     "name": "stderr",
     "output_type": "stream",
     "text": [
      "Extracting Features:  81%|████████  | 59/73 [05:24<01:24,  6.03s/it]"
     ]
    },
    {
     "name": "stdout",
     "output_type": "stream",
     "text": [
      "Saved /Users/folasewaabdulsalam/Seizure_Onset/feature_path/chb24_05_features.h5\n"
     ]
    },
    {
     "name": "stderr",
     "output_type": "stream",
     "text": [
      "Extracting Features:  82%|████████▏ | 60/73 [05:41<02:00,  9.29s/it]"
     ]
    },
    {
     "name": "stdout",
     "output_type": "stream",
     "text": [
      "Saved /Users/folasewaabdulsalam/Seizure_Onset/feature_path/chb23_17_features.h5\n"
     ]
    },
    {
     "name": "stderr",
     "output_type": "stream",
     "text": [
      "Extracting Features:  84%|████████▎ | 61/73 [05:46<01:35,  7.94s/it]"
     ]
    },
    {
     "name": "stdout",
     "output_type": "stream",
     "text": [
      "Saved /Users/folasewaabdulsalam/Seizure_Onset/feature_path/chb03_01_features.h5\n"
     ]
    },
    {
     "name": "stderr",
     "output_type": "stream",
     "text": [
      "Extracting Features:  85%|████████▍ | 62/73 [05:51<01:17,  7.04s/it]"
     ]
    },
    {
     "name": "stdout",
     "output_type": "stream",
     "text": [
      "Saved /Users/folasewaabdulsalam/Seizure_Onset/feature_path/chb01_15_features.h5\n"
     ]
    },
    {
     "name": "stderr",
     "output_type": "stream",
     "text": [
      "Extracting Features:  86%|████████▋ | 63/73 [05:56<01:03,  6.40s/it]"
     ]
    },
    {
     "name": "stdout",
     "output_type": "stream",
     "text": [
      "Saved /Users/folasewaabdulsalam/Seizure_Onset/feature_path/chb24_13_features.h5\n"
     ]
    },
    {
     "name": "stderr",
     "output_type": "stream",
     "text": [
      "Extracting Features:  88%|████████▊ | 64/73 [06:01<00:53,  5.89s/it]"
     ]
    },
    {
     "name": "stdout",
     "output_type": "stream",
     "text": [
      "Saved /Users/folasewaabdulsalam/Seizure_Onset/feature_path/chb24_14_features.h5\n"
     ]
    },
    {
     "name": "stderr",
     "output_type": "stream",
     "text": [
      "Extracting Features:  89%|████████▉ | 65/73 [06:20<01:19,  9.89s/it]"
     ]
    },
    {
     "name": "stdout",
     "output_type": "stream",
     "text": [
      "Saved /Users/folasewaabdulsalam/Seizure_Onset/feature_path/chb23_09_features.h5\n"
     ]
    },
    {
     "name": "stderr",
     "output_type": "stream",
     "text": [
      "Extracting Features:  90%|█████████ | 66/73 [06:39<01:28, 12.71s/it]"
     ]
    },
    {
     "name": "stdout",
     "output_type": "stream",
     "text": [
      "Saved /Users/folasewaabdulsalam/Seizure_Onset/feature_path/chb23_10_features.h5\n"
     ]
    },
    {
     "name": "stderr",
     "output_type": "stream",
     "text": [
      "Extracting Features:  92%|█████████▏| 67/73 [06:44<01:02, 10.41s/it]"
     ]
    },
    {
     "name": "stdout",
     "output_type": "stream",
     "text": [
      "Saved /Users/folasewaabdulsalam/Seizure_Onset/feature_path/chb02_31_features.h5\n"
     ]
    },
    {
     "name": "stderr",
     "output_type": "stream",
     "text": [
      "Extracting Features:  93%|█████████▎| 68/73 [06:49<00:43,  8.70s/it]"
     ]
    },
    {
     "name": "stdout",
     "output_type": "stream",
     "text": [
      "Saved /Users/folasewaabdulsalam/Seizure_Onset/feature_path/chb24_02_features.h5\n"
     ]
    },
    {
     "name": "stderr",
     "output_type": "stream",
     "text": [
      "Extracting Features:  95%|█████████▍| 69/73 [06:54<00:30,  7.51s/it]"
     ]
    },
    {
     "name": "stdout",
     "output_type": "stream",
     "text": [
      "Saved /Users/folasewaabdulsalam/Seizure_Onset/feature_path/chb01_04_features.h5\n"
     ]
    },
    {
     "name": "stderr",
     "output_type": "stream",
     "text": [
      "Extracting Features:  96%|█████████▌| 70/73 [06:58<00:19,  6.67s/it]"
     ]
    },
    {
     "name": "stdout",
     "output_type": "stream",
     "text": [
      "Saved /Users/folasewaabdulsalam/Seizure_Onset/feature_path/chb03_34_features.h5\n"
     ]
    },
    {
     "name": "stderr",
     "output_type": "stream",
     "text": [
      "Extracting Features:  97%|█████████▋| 71/73 [07:03<00:12,  6.08s/it]"
     ]
    },
    {
     "name": "stdout",
     "output_type": "stream",
     "text": [
      "Saved /Users/folasewaabdulsalam/Seizure_Onset/feature_path/chb01_43_features.h5\n"
     ]
    },
    {
     "name": "stderr",
     "output_type": "stream",
     "text": [
      "Extracting Features:  99%|█████████▊| 72/73 [07:08<00:05,  5.68s/it]"
     ]
    },
    {
     "name": "stdout",
     "output_type": "stream",
     "text": [
      "Saved /Users/folasewaabdulsalam/Seizure_Onset/feature_path/chb02_27_features.h5\n"
     ]
    },
    {
     "name": "stderr",
     "output_type": "stream",
     "text": [
      "Extracting Features: 100%|██████████| 73/73 [07:18<00:00,  6.00s/it]"
     ]
    },
    {
     "name": "stdout",
     "output_type": "stream",
     "text": [
      "Saved /Users/folasewaabdulsalam/Seizure_Onset/feature_path/chb23_06_features.h5\n",
      "\n",
      "Feature extraction complete!\n"
     ]
    },
    {
     "name": "stderr",
     "output_type": "stream",
     "text": [
      "\n"
     ]
    }
   ],
   "source": [
    "#extracting features\n",
    "feature_path = \"/Users/folasewaabdulsalam/Seizure_Onset/feature_path\"\n",
    "os.makedirs(feature_path, exist_ok=True)\n",
    "\n",
    "def extract_spectral_energy(data, fs=FS):\n",
    "    \"\"\"\n",
    "    Extracts spectral energy features for each 2-second window.\n",
    "    \"\"\"\n",
    "    num_channels = data.shape[0]\n",
    "    num_samples = data.shape[1]\n",
    "    num_windows = (num_samples - WINDOW_SIZE) // WINDOW_SIZE + 1\n",
    "\n",
    "    feature_vectors = []\n",
    "\n",
    "    for i in range(num_windows):\n",
    "        start = i * WINDOW_SIZE\n",
    "        end = start + WINDOW_SIZE\n",
    "        window = data[:, start:end]\n",
    "\n",
    "        # Extract 8-band energy per channel\n",
    "        features = []\n",
    "        for low_cut, high_cut in FILTER_BANDS:\n",
    "            nyquist = 0.5 * fs\n",
    "            low = low_cut / nyquist\n",
    "            high = high_cut / nyquist\n",
    "            b, a = butter(4, [low, high], btype='band')\n",
    "            filtered = filtfilt(b, a, window, axis=1)\n",
    "            \n",
    "            # Calculate energy (sum of squares)\n",
    "            energy = np.sum(filtered ** 2, axis=1)  # Shape: (18,)\n",
    "            features.append(energy)\n",
    "\n",
    "        # Flatten to create the final feature vector (8 bands × 18 channels = 144)\n",
    "        feature_vector = np.concatenate(features)\n",
    "        feature_vectors.append(feature_vector)\n",
    "\n",
    "    return np.array(feature_vectors)\n",
    "\n",
    "def extract_and_save_features(preprocessed_path, feature_path, annotations_file):\n",
    "    \"\"\"\n",
    "    Extract features from all preprocessed files.\n",
    "    \"\"\"\n",
    "    # Load annotations\n",
    "    seizure_annotations = load_annotations(annotations_file)\n",
    "\n",
    "    # Get all preprocessed .h5 files\n",
    "    h5_files = [f for f in os.listdir(preprocessed_path) if f.endswith(\"_preprocessed.h5\")]\n",
    "    \n",
    "    for h5_file in tqdm(h5_files, desc=\"Extracting Features\"):\n",
    "        file_path = os.path.join(preprocessed_path, h5_file)\n",
    "        output_file = os.path.join(feature_path, h5_file.replace(\"_preprocessed.h5\", \"_features.h5\"))\n",
    "        file_base_name = h5_file.replace(\"_preprocessed.h5\", \"\")\n",
    "\n",
    "        # Load the preprocessed data\n",
    "        with h5py.File(file_path, \"r\") as hf:\n",
    "            signals = hf[\"data\"][:]\n",
    "            # Use only the first 18 channels\n",
    "            signals = signals[SELECTED_CHANNELS, :]\n",
    "            features = extract_spectral_energy(signals)\n",
    "        \n",
    "        # Extract and add annotations\n",
    "        labels = np.zeros(features.shape[0], dtype=int)  # Default to non-seizure\n",
    "        if file_base_name in seizure_annotations:\n",
    "            for event, time in seizure_annotations[file_base_name]:\n",
    "                if event == b\"start\":\n",
    "                    start_idx = time // 2\n",
    "                elif event == b\"end\":\n",
    "                    end_idx = time // 2\n",
    "                    labels[start_idx:end_idx] = 1  # Mark seizure windows\n",
    "        \n",
    "        # Save the features and labels\n",
    "        with h5py.File(output_file, \"w\") as out_hf:\n",
    "            out_hf.create_dataset(\"features\", data=features, compression=\"gzip\")\n",
    "            out_hf.create_dataset(\"labels\", data=labels, compression=\"gzip\")\n",
    "            out_hf.attrs[\"channels\"] = SELECTED_CHANNELS\n",
    "            if file_base_name in seizure_annotations:\n",
    "                out_hf.attrs[\"seizure_annotations\"] = seizure_annotations[file_base_name]\n",
    "        \n",
    "        print(f\"Saved {output_file}\")\n",
    "\n",
    "# Run the feature extraction\n",
    "extract_and_save_features(preprocessed_path, feature_path, annotations_file)\n",
    "\n",
    "print(\"\\nFeature extraction complete!\")"
   ]
  },
  {
   "cell_type": "code",
   "execution_count": 86,
   "id": "254941d7",
   "metadata": {},
   "outputs": [],
   "source": [
    "#loading features and labels with the annotations\n",
    "from collections import Counter\n",
    "def load_features_and_labels(feature_path, annotations_file):\n",
    "    \"\"\"\n",
    "    Load features and labels from all feature files.\n",
    "    \"\"\"\n",
    "    features = []\n",
    "    labels = []\n",
    "\n",
    "    # Load annotations\n",
    "    seizure_annotations = {}\n",
    "    with open(annotations_file, \"r\") as f:\n",
    "        for line in f:\n",
    "            parts = line.strip().split()\n",
    "            file_name = parts[0].strip()\n",
    "            event_type = parts[1].strip().encode(\"utf-8\")\n",
    "            event_time = int(parts[2].strip())\n",
    "            \n",
    "            if file_name not in seizure_annotations:\n",
    "                seizure_annotations[file_name] = []\n",
    "            seizure_annotations[file_name].append((event_type, event_time))\n",
    "\n",
    "    for file_name in os.listdir(feature_path):\n",
    "        if file_name.endswith(\"_features.h5\"):\n",
    "            file_base_name = file_name.replace(\"_features.h5\", \"\")\n",
    "            file_path = os.path.join(feature_path, file_name)\n",
    "            \n",
    "            with h5py.File(file_path, \"r\") as hf:\n",
    "                data = hf[\"features\"][:]\n",
    "                \n",
    "                # Check for seizure annotations\n",
    "                file_annotations = seizure_annotations.get(file_base_name, [])\n",
    "                labels_for_file = np.zeros(data.shape[0], dtype=int)\n",
    "\n",
    "                # Mark seizure windows\n",
    "                for event, time in file_annotations:\n",
    "                    if event == b\"start\":\n",
    "                        start_idx = time // 2\n",
    "                        labels_for_file[start_idx:] = 1\n",
    "                    elif event == b\"end\":\n",
    "                        end_idx = time // 2\n",
    "                        labels_for_file[end_idx:] = 0\n",
    "\n",
    "                features.append(data)\n",
    "                labels.append(labels_for_file)\n",
    "\n",
    "    # Convert to numpy arrays\n",
    "    features = np.vstack(features)\n",
    "    labels = np.concatenate(labels)\n",
    "    \n",
    "    return features, labels\n",
    "\n"
   ]
  },
  {
   "cell_type": "code",
   "execution_count": null,
   "id": "e7c747e0",
   "metadata": {},
   "outputs": [
    {
     "name": "stdout",
     "output_type": "stream",
     "text": [
      "\n",
      "Training Set Ratio: Counter({np.int64(0): 127028, np.int64(1): 798})\n",
      "Test Set Ratio: Counter({np.int64(0): 31757, np.int64(1): 200})\n"
     ]
    },
    {
     "name": "stderr",
     "output_type": "stream",
     "text": [
      "/Users/folasewaabdulsalam/Seizure_Onset/venv/lib/python3.9/site-packages/sklearn/base.py:474: FutureWarning: `BaseEstimator._validate_data` is deprecated in 1.6 and will be removed in 1.7. Use `sklearn.utils.validation.validate_data` instead. This function becomes public and is part of the scikit-learn developer API.\n",
      "  warnings.warn(\n"
     ]
    },
    {
     "name": "stdout",
     "output_type": "stream",
     "text": [
      "\n",
      "Balanced Training Set Ratio: Counter({np.int64(0): 127028, np.int64(1): 127028})\n",
      "\n",
      "Training Naive Bayes...\n",
      "\n",
      "Model: Naive Bayes\n",
      "F1 Score: 0.9814\n",
      "Sensitivity (Recall): 0.4800\n",
      "Specificity: 0.9764\n",
      "Latency: 0.4000 samples\n",
      "Confusion Matrix:\n",
      "[[31008   749]\n",
      " [  104    96]]\n",
      "Classification Report:\n",
      "              precision    recall  f1-score   support\n",
      "\n",
      "           0       1.00      0.98      0.99     31757\n",
      "           1       0.11      0.48      0.18       200\n",
      "\n",
      "    accuracy                           0.97     31957\n",
      "   macro avg       0.56      0.73      0.59     31957\n",
      "weighted avg       0.99      0.97      0.98     31957\n",
      "\n",
      "\n",
      "Training Random Forest...\n"
     ]
    }
   ],
   "source": [
    "\n",
    "#training the model\n",
    "model_results_path = \"/Users/folasewaabdulsalam/Seizure_Onset/model_results\"\n",
    "\n",
    "# Load Data\n",
    "features, labels = load_features_and_labels(feature_path, annotations_file)\n",
    "\n",
    "# Preserve Original Seizure-to-Non-Seizure Ratio\n",
    "X_train, X_test, y_train, y_test = train_test_split(\n",
    "    features, labels, test_size=0.2, stratify=labels, random_state=42\n",
    ")\n",
    "\n",
    "# Print Ratio\n",
    "print(\"\\nTraining Set Ratio:\", Counter(y_train))\n",
    "print(\"Test Set Ratio:\", Counter(y_test))\n",
    "\n",
    "# Normalize Features\n",
    "scaler = StandardScaler()\n",
    "X_train = scaler.fit_transform(X_train)\n",
    "X_test = scaler.transform(X_test)\n",
    "\n",
    "# Balance Training Data\n",
    "smote = SMOTE(random_state=42, k_neighbors=5)\n",
    "X_train_balanced, y_train_balanced = smote.fit_resample(X_train, y_train)\n",
    "\n",
    "# Print Balanced Ratio\n",
    "print(\"\\nBalanced Training Set Ratio:\", Counter(y_train_balanced))\n",
    "\n",
    "# Define Models\n",
    "models = {\n",
    "    \"Naive Bayes\": GaussianNB(),\n",
    "    \"Random Forest\": RandomForestClassifier(n_estimators=100, random_state=42),\n",
    "    \"XGBoost\": XGBClassifier(use_label_encoder=False, eval_metric='logloss', random_state=42)\n",
    "}\n",
    "\n",
    "# Train and Evaluate\n",
    "for model_name, model in models.items():\n",
    "    print(f\"\\nTraining {model_name}...\")\n",
    "    model.fit(X_train_balanced, y_train_balanced)\n",
    "    y_pred = model.predict(X_test)\n",
    "\n",
    "    # Metrics\n",
    "    f1 = f1_score(y_test, y_pred, average=\"weighted\")\n",
    "    precision, recall, f1_scores, _ = precision_recall_fscore_support(y_test, y_pred, average=\"binary\")\n",
    "    cm = confusion_matrix(y_test, y_pred)\n",
    "\n",
    "    # Sensitivity and Specificity\n",
    "    tn, fp, fn, tp = cm.ravel()\n",
    "    sensitivity = tp / (tp + fn)\n",
    "    specificity = tn / (tn + fp)\n",
    "    \n",
    "    # Latency Calculation (Onset Delay)\n",
    "    latency = np.mean([max(0, i - j) for i, j in zip(np.where(y_pred == 1)[0], np.where(y_test == 1)[0])]) if np.any(y_test == 1) else 0\n",
    "\n",
    "    # Save Results\n",
    "    with open(os.path.join(model_results_path, f\"{model_name}_results.txt\"), \"w\") as f:\n",
    "        f.write(f\"Model: {model_name}\\n\")\n",
    "        f.write(f\"F1 Score: {f1:.4f}\\n\")\n",
    "        f.write(f\"Sensitivity (Recall): {sensitivity:.4f}\\n\")\n",
    "        f.write(f\"Specificity: {specificity:.4f}\\n\")\n",
    "        f.write(f\"Latency: {latency:.4f} samples\\n\")\n",
    "        f.write(\"Confusion Matrix:\\n\")\n",
    "        f.write(f\"{cm}\\n\")\n",
    "        f.write(\"Classification Report:\\n\")\n",
    "        f.write(classification_report(y_test, y_pred))\n",
    "\n",
    "    print(f\"\\nModel: {model_name}\")\n",
    "    print(f\"F1 Score: {f1:.4f}\")\n",
    "    print(f\"Sensitivity (Recall): {sensitivity:.4f}\")\n",
    "    print(f\"Specificity: {specificity:.4f}\")\n",
    "    print(f\"Latency: {latency:.4f} samples\")\n",
    "    print(\"Confusion Matrix:\")\n",
    "    print(cm)\n",
    "    print(\"Classification Report:\")\n",
    "    print(classification_report(y_test, y_pred))\n",
    "\n",
    "print(\"\\nTraining Complete!\")"
   ]
  },
  {
   "cell_type": "code",
   "execution_count": null,
   "id": "49ad08a2",
   "metadata": {},
   "outputs": [],
   "source": []
  },
  {
   "cell_type": "code",
   "execution_count": null,
   "id": "8b93bb95",
   "metadata": {},
   "outputs": [],
   "source": []
  },
  {
   "cell_type": "code",
   "execution_count": null,
   "id": "be225417",
   "metadata": {},
   "outputs": [],
   "source": []
  },
  {
   "cell_type": "code",
   "execution_count": null,
   "id": "5262229b",
   "metadata": {},
   "outputs": [],
   "source": []
  },
  {
   "cell_type": "code",
   "execution_count": null,
   "id": "35bc42da",
   "metadata": {},
   "outputs": [],
   "source": []
  },
  {
   "cell_type": "code",
   "execution_count": null,
   "id": "07da5427",
   "metadata": {},
   "outputs": [],
   "source": []
  },
  {
   "cell_type": "code",
   "execution_count": null,
   "id": "43fe72bd",
   "metadata": {},
   "outputs": [],
   "source": []
  },
  {
   "cell_type": "code",
   "execution_count": null,
   "id": "d59686b5",
   "metadata": {},
   "outputs": [],
   "source": []
  },
  {
   "cell_type": "code",
   "execution_count": null,
   "id": "da9873cb",
   "metadata": {},
   "outputs": [],
   "source": []
  },
  {
   "cell_type": "code",
   "execution_count": null,
   "id": "1eb72a6a",
   "metadata": {},
   "outputs": [],
   "source": []
  },
  {
   "cell_type": "code",
   "execution_count": null,
   "id": "324fb193",
   "metadata": {},
   "outputs": [],
   "source": []
  }
 ],
 "metadata": {
  "kernelspec": {
   "display_name": "venv",
   "language": "python",
   "name": "python3"
  },
  "language_info": {
   "codemirror_mode": {
    "name": "ipython",
    "version": 3
   },
   "file_extension": ".py",
   "mimetype": "text/x-python",
   "name": "python",
   "nbconvert_exporter": "python",
   "pygments_lexer": "ipython3",
   "version": "3.9.6"
  }
 },
 "nbformat": 4,
 "nbformat_minor": 5
}
