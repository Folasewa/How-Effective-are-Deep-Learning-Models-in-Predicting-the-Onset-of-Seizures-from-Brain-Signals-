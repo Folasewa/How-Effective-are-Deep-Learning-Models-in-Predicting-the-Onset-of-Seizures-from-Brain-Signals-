{
 "cells": [
  {
   "cell_type": "code",
   "execution_count": 3,
   "id": "ca1475e1",
   "metadata": {},
   "outputs": [],
   "source": [
    "import numpy as np\n",
    "import os\n",
    "import h5py\n",
    "import pyedflib\n",
    "from tqdm import tqdm\n",
    "import pandas as pd"
   ]
  },
  {
   "cell_type": "code",
   "execution_count": null,
   "id": "8169dd26",
   "metadata": {},
   "outputs": [],
   "source": [
    "source_dir = \"/Users/folasewaabdulsalam/Seizure_Onset/Dataset\"\n",
    "output_dir = \"/Users/folasewaabdulsalam/Seizure_Onset/h5_files\"\n",
    "\n",
    "def convert_edf_to_h5(source_dir, output_dir):\n",
    "    \"\"\"\n",
    "    Convert .edf files to .h5 format\n",
    "    \"\"\"\n",
    "\n",
    "    os.makedirs(output_dir, exist_ok=True)\n",
    "    for patient_folder in tqdm(os.listdir(source_dir), desc=\"Processing patient data\"):\n",
    "        patient_path = os.join(source_dir, patient_folder)\n",
    "\n",
    "        if not os.path.isdir(patient_path):\n",
    "            continue\n",
    "\n",
    "        patient_output_dir = os.path.join(output_dir, patient_folder)\n",
    "        os.makedirs(patient_output_dir, exist_ok=True)\n",
    "\n",
    "        edf_files  = [f for f in os.listdir(patient_path) if f.edswith(\".edf\")]\n",
    "        h5_files = [f.replace(\".edf\", \".h5\") for f in edf_files]\n",
    "        already_processed = all(os.path.exists(os.path.join(patient_output_dir, h5_file) for h5_file in h5_files))\n",
    "\n",
    "        if already_processed:\n",
    "            print(f\"Skipping {patient_folder} (all sessions converted)\")\n",
    "            continue\n",
    "\n",
    "        for edf_file, h5_file in zip(edf_files, h5_files):\n",
    "            edf_path = os.path.join(patient_path, edf_file)\n",
    "            h5_file_path = os.path.join(patient_output_dir, h5_file)\n",
    "\n",
    "            if os.path.exists(h5_file_path):\n",
    "                print(f\"Skipping {edf_file} already converted\")\n",
    "                continue\n",
    "\n",
    "            #extracting raw signals and metadata\n",
    "            with pyedflib.EdfReader(edf_path) as f:\n",
    "                signals = np.array([f.readSignal(i) for i in range(f.signals_in_file)])\n",
    "                channels = f.getSignalLabels()\n",
    "                sampling_rate = f.getSampleFrequency(0)\n",
    "            \n",
    "            with h5py.File(h5_file_path, \"w\") as h5_file:\n",
    "                h5_file.create_dataset(\"data\", data=signals, compression=\"gzip\")\n",
    "                h5_file.attrs[\"channels\"] = channels\n",
    "                h5_file.attrs[\"sampling_rate\"] = sampling_rate\n",
    "\n",
    "                seizure_file = edf_path + \".seizures\"\n",
    "                if os.path.exists(seizure_file):\n",
    "                    with open(seizure_file, \"r\") as sf:\n",
    "                        annotations = [line.strip() for line in sf.readlines()]\n",
    "                    h5_file.attrs[\"seizure_annotations\"] = annotations\n",
    "\n",
    "            print(f\"Converted: {edf_file}\")\n",
    "    print(\"Yehhh!! Conversion Complete\")\n",
    "\n",
    "\n",
    "    "
   ]
  }
 ],
 "metadata": {
  "kernelspec": {
   "display_name": "venv",
   "language": "python",
   "name": "python3"
  },
  "language_info": {
   "codemirror_mode": {
    "name": "ipython",
    "version": 3
   },
   "file_extension": ".py",
   "mimetype": "text/x-python",
   "name": "python",
   "nbconvert_exporter": "python",
   "pygments_lexer": "ipython3",
   "version": "3.9.6"
  }
 },
 "nbformat": 4,
 "nbformat_minor": 5
}
